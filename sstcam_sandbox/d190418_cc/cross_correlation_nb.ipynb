{
  "cells": [
    {
      "cell_type": "code",
      "execution_count": 1,
      "metadata": {
        "collapsed": true,
        "pycharm": {
          "is_executing": false
        }
      },
      "outputs": [],
      "source": "import numpy as np\nfrom numba import njit, prange, float32, float64, guvectorize\nfrom scipy.ndimage import correlate1d\nfrom scipy import interpolate\nfrom matplotlib import pyplot as plt\n#%matplotlib inline"
    },
    {
      "cell_type": "code",
      "execution_count": 8,
      "outputs": [
        {
          "data": {
            "text/plain": "[\u003cmatplotlib.lines.Line2D at 0x129112240\u003e]"
          },
          "metadata": {},
          "output_type": "execute_result",
          "execution_count": 8
        },
        {
          "data": {
            "text/plain": "\u003cFigure size 432x288 with 1 Axes\u003e",
            "image/png": "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\u003d\n"
          },
          "metadata": {
            "needs_background": "light"
          },
          "output_type": "display_data"
        }
      ],
      "source": "wf0 \u003d np.array([-3.50860596e-01, -3.55261230e+00, -5.70159912e-01, -1.75436401e+00,\n       -3.94714355e-01, -4.21051025e+00,  1.00878906e+00, -1.84210205e+00,\n       -6.14013672e-01,  1.00878906e+00,  1.49124146e+00, -4.38598633e-01,\n        2.32458496e+00,  1.79824829e+00,  9.64935303e-01, -2.19296265e+00,\n       -1.14035034e+00, -1.00875854e+00, -1.97366333e+00, -4.82452393e-01,\n       -1.31561279e-01, -8.77166748e-01, -2.45611572e+00,  2.01754761e+00,\n        8.77197266e-01,  2.98248291e+00,  1.31579590e+00,  3.64035034e+00,\n        1.84213257e+00,  2.63183594e-01,  1.75445557e-01, -1.88595581e+00,\n       -1.31561279e-01, -1.44735718e+00, -1.71051025e+00, -3.94714355e-01,\n       -3.59646606e+00, -2.36840820e+00, -5.70159912e-01, -1.88595581e+00,\n       -1.31576538e+00, -1.53506470e+00, -3.07006836e-01, -1.79824829e+00,\n        2.76318359e+00,  1.75445557e-01,  1.57894897e+00,  2.23684692e+00,\n        6.44738770e+00,  6.92984009e+00,  6.31579590e+00,  1.79824829e+00,\n        6.44738770e+00,  8.99124146e+00,  1.68859863e+01,  2.87280884e+01,\n        6.04385986e+01,  9.87719421e+01,  1.75350891e+02,  2.10921082e+02,\n        2.56271973e+02,  2.60307068e+02,  2.37017578e+02,  2.12500000e+02,\n        1.65043884e+02,  1.22763184e+02,  9.58771973e+01,  8.04385986e+01,\n        6.71929932e+01,  6.15350952e+01,  5.42982483e+01,  5.18859863e+01,\n        4.53070374e+01,  4.26315918e+01,  3.29385986e+01,  3.03947449e+01,\n        2.11403503e+01,  3.24563599e+00, -1.20175171e+01, -1.81578979e+01,\n       -3.97807007e+01, -4.09210510e+01, -4.45175476e+01, -4.53947144e+01,\n       -4.78508606e+01, -4.75000000e+01, -4.64473572e+01, -4.73245544e+01,\n       -3.95614014e+01, -3.98684082e+01, -3.53947144e+01, -3.96929626e+01,\n       -4.11403503e+01, -3.68859558e+01, -3.87719116e+01, -3.88157654e+01,\n       -3.15350647e+01, -3.46929626e+01, -3.43859558e+01, -3.75000000e+01,\n       -2.37280579e+01, -2.29824524e+01, -2.07456055e+01, -2.93421021e+01,\n       -1.90350647e+01, -2.71491089e+01, -1.65789490e+01, -3.00877075e+01,\n       -1.50877075e+01, -1.42982483e+01, -1.35087585e+01, -7.10525513e+00,\n       -2.67541504e+00, -8.33312988e-01, -4.21051025e+00, -1.84210205e+00,\n       -1.27191162e+00, -1.44735718e+00,  3.28948975e+00,  2.01754761e+00,\n        1.40353394e+00,  2.10528564e+00,  2.85089111e+00,  1.35964966e+00,\n        2.58773804e+00,  3.07019043e+00,  2.41229248e+00,  4.60528564e+00],\n      dtype\u003dnp.float32)\nreference_pulse \u003d np.array([ 0.00000000e+00, -5.61478318e-04, -9.77862860e-04, -1.25136917e-03,\n       -1.40756297e-03, -1.45038498e-03, -1.38165400e-03, -1.18762206e-03,\n       -9.94695664e-04, -6.86305861e-04, -1.20753969e-04,  1.61180337e-03,\n        6.72624750e-03,  1.89561621e-02,  4.27551432e-02,  8.25952156e-02,\n        1.41766444e-01,  2.20574813e-01,  3.16768759e-01,  4.25080005e-01,\n        5.38355502e-01,  6.48230558e-01,  7.46022194e-01,  8.23507477e-01,\n        8.73760707e-01,  8.91567994e-01,  8.73905141e-01,  8.22810270e-01,\n        7.43092501e-01,  6.42333728e-01,  5.29874907e-01,  4.15376179e-01,\n        3.06902668e-01,  2.09800214e-01,  1.27009210e-01,  5.94965612e-02,\n        6.89133915e-03, -3.33357273e-02, -6.35189593e-02, -8.57509205e-02,\n       -1.02141596e-01, -1.14868729e-01, -1.25436484e-01, -1.34504622e-01,\n       -1.42125746e-01, -1.48148287e-01, -1.52237910e-01, -1.54172612e-01,\n       -1.53938130e-01, -1.51876825e-01, -1.48356914e-01, -1.43493411e-01,\n       -1.37207856e-01, -1.29638444e-01, -1.21387874e-01, -1.12967014e-01,\n       -1.04621938e-01, -9.65229342e-02, -8.89523629e-02, -8.18735805e-02,\n       -7.49667815e-02, -6.79891921e-02, -6.10349617e-02, -5.41816569e-02,\n       -4.73145327e-02, -4.05297003e-02, -3.42371025e-02, -2.87702751e-02,\n       -2.41030949e-02, -2.02066753e-02, -1.71021464e-02, -1.46356236e-02,\n       -1.25062917e-02, -1.04724468e-02, -8.49851528e-03, -6.56749491e-03,\n       -4.58392552e-03, -2.36599856e-03])\nplt.plot(wf0)\nplt.plot(reference_pulse * wf0.max())",
      "metadata": {
        "pycharm": {
          "metadata": false,
          "name": "#%%\n",
          "is_executing": false
        }
      }
    },
    {
      "cell_type": "code",
      "execution_count": 9,
      "outputs": [],
      "source": "wfs \u003d np.tile(wf0, (2048, 1))",
      "metadata": {
        "pycharm": {
          "metadata": false,
          "name": "#%%\n",
          "is_executing": false
        }
      }
    },
    {
      "cell_type": "code",
      "execution_count": 10,
      "outputs": [],
      "source": "@njit([\n    float64[:, :](float32[:, :], float64[:]),\n], parallel\u003dTrue, nogil\u003dTrue)\ndef cross_correlate_jit(w, ref):\n    n_pixels, n_samples \u003d w.shape\n    ref_pad \u003d np.zeros(ref.size + n_samples * 2)\n    ref_pad[n_samples:n_samples+ref.size] \u003d ref\n    cc_res \u003d np.zeros((n_pixels, n_samples))\n    for ipix in prange(n_pixels):\n        ref_t_start \u003d ref_pad.argmax()\n        for t in prange(n_samples):\n            start \u003d ref_t_start - t\n            end \u003d start + n_samples\n            cc_res[ipix, t] \u003d np.sum(w[ipix] * ref_pad[start:end])\n    return cc_res",
      "metadata": {
        "pycharm": {
          "metadata": false,
          "name": "#%%\n",
          "is_executing": false
        }
      }
    },
    {
      "cell_type": "code",
      "execution_count": 11,
      "outputs": [],
      "source": "@guvectorize(\n    [\n        (float32[:], float64[:], float64[:]),\n    ],\n    \u0027(s),(r)-\u003e(s)\u0027,\n    nopython\u003dTrue, target\u003d\u0027parallel\u0027\n)\ndef cross_correlate_vectorize(w, ref, ret):\n    n_samples \u003d w.size\n    ref_pad \u003d np.zeros(ref.size + n_samples * 2)\n    ref_pad[n_samples:n_samples+ref.size] \u003d ref\n    ref_t_start \u003d ref_pad.argmax()\n    for t in prange(n_samples):\n        start \u003d ref_t_start - t\n        end \u003d start + n_samples\n        ret[t] \u003d np.sum(w * ref_pad[start:end])",
      "metadata": {
        "pycharm": {
          "metadata": false,
          "name": "#%%\n",
          "is_executing": false
        }
      }
    },
    {
      "cell_type": "code",
      "execution_count": 16,
      "outputs": [],
      "source": "@njit([\n    (float32[:], float64[:], float64[:]),\n], parallel\u003dTrue, nogil\u003dTrue)\ndef cross_correlate_pixel(w, ref, res):\n    n_samples \u003d w.size\n    ref_t_start \u003d ref.argmax()\n    for t in prange(n_samples):\n        start \u003d ref_t_start - t\n        end \u003d start + n_samples\n        res[t] \u003d np.sum(w * ref[start:end])\n        \n@njit([\n    float64[:, :](float32[:, :], float64[:]),\n], parallel\u003dTrue, nogil\u003dTrue)\ndef cross_correlate_camera(w, ref):\n    n_pixels, n_samples \u003d w.shape\n    ref_pad \u003d np.zeros(ref.size + n_samples * 2)\n    ref_pad[n_samples:n_samples+ref.size] \u003d ref\n    cc_res \u003d np.zeros((n_pixels, n_samples))\n    for ipix in prange(n_pixels):\n        cross_correlate_pixel(w[ipix], ref_pad, cc_res[ipix])\n    return cc_res",
      "metadata": {
        "pycharm": {
          "metadata": false,
          "name": "#%%\n",
          "is_executing": false
        }
      }
    },
    {
      "cell_type": "code",
      "execution_count": 25,
      "outputs": [],
      "source": "from scipy.ndimage import correlate1d\npad \u003d reference_pulse.size - 2 * np.argmax(reference_pulse)\nif pad \u003e 0:\n    reference_pulse_scipy \u003d np.pad(reference_pulse, (pad, 0), mode\u003d\u0027constant\u0027)\nelse:\n    reference_pulse_scipy \u003d np.pad(reference_pulse, (0, -pad), mode\u003d\u0027constant\u0027)\ncc_scipy \u003d correlate1d(wfs, reference_pulse_scipy, mode\u003d\u0027constant\u0027)",
      "metadata": {
        "pycharm": {
          "metadata": false,
          "name": "#%%\n",
          "is_executing": false
        }
      }
    },
    {
      "cell_type": "code",
      "execution_count": 26,
      "outputs": [],
      "source": "cc_jit \u003d cross_correlate_jit(wfs, reference_pulse)\ncc_vectorize \u003d cross_correlate_vectorize(wfs, reference_pulse)\ncc_camera \u003d cross_correlate_camera(wfs, reference_pulse)\n\nassert np.allclose(cc_scipy, cc_jit)\nassert np.allclose(cc_scipy, cc_vectorize)\nassert np.allclose(cc_scipy, cc_camera)",
      "metadata": {
        "pycharm": {
          "metadata": false,
          "name": "#%%\n",
          "is_executing": false
        }
      }
    },
    {
      "cell_type": "code",
      "execution_count": 24,
      "outputs": [
        {
          "name": "stdout",
          "text": [
            "23.3 ms ± 238 µs per loop (mean ± std. dev. of 7 runs, 10 loops each)\n",
            "9.58 ms ± 398 µs per loop (mean ± std. dev. of 7 runs, 100 loops each)\n",
            "42.5 ms ± 529 µs per loop (mean ± std. dev. of 7 runs, 10 loops each)\n",
            "75.6 ms ± 2.57 ms per loop (mean ± std. dev. of 7 runs, 10 loops each)\n"
          ],
          "output_type": "stream"
        }
      ],
      "source": "%timeit correlate1d(wfs, reference_pulse_scipy, mode\u003d\u0027constant\u0027)\n%timeit cross_correlate_jit(wfs, reference_pulse)\n%timeit cross_correlate_vectorize(wfs, reference_pulse)\n%timeit cross_correlate_camera(wfs, reference_pulse)",
      "metadata": {
        "pycharm": {
          "metadata": false,
          "name": "#%%\n",
          "is_executing": false
        }
      }
    },
    {
      "cell_type": "code",
      "execution_count": null,
      "outputs": [],
      "source": "\n",
      "metadata": {
        "pycharm": {
          "metadata": false,
          "name": "#%%\n"
        }
      }
    }
  ],
  "metadata": {
    "language_info": {
      "codemirror_mode": {
        "name": "ipython",
        "version": 2
      },
      "file_extension": ".py",
      "mimetype": "text/x-python",
      "name": "python",
      "nbconvert_exporter": "python",
      "pygments_lexer": "ipython2",
      "version": "2.7.6"
    },
    "kernelspec": {
      "name": "cta",
      "language": "python",
      "display_name": "cta"
    },
    "stem_cell": {
      "cell_type": "raw",
      "source": "",
      "metadata": {
        "pycharm": {
          "metadata": false
        }
      }
    }
  },
  "nbformat": 4,
  "nbformat_minor": 0
}