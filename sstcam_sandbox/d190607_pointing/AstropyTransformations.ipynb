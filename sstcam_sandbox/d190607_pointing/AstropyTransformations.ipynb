{
 "cells": [
  {
   "cell_type": "code",
   "execution_count": 2,
   "metadata": {},
   "outputs": [],
   "source": [
    "from astropy.coordinates import SkyCoord, EarthLocation, AltAz\n",
    "import astropy.units as u\n",
    "from astropy.time import Time\n",
    "from ctapipe.coordinates import CameraFrame\n",
    "import numpy as np\n",
    "import datetime"
   ]
  },
  {
   "cell_type": "code",
   "execution_count": 4,
   "metadata": {},
   "outputs": [],
   "source": [
    "location=EarthLocation.from_geodetic(lon=14.974609, lat=37.693267, height=1730)\n",
    "start_time=Time(\"2019-05-01T04:00\")\n",
    "time_step=datetime.timedelta(seconds=1)\n",
    "obstimes = np.array(\n",
    "            [start_time + time_step * i for i in range(6000)]\n",
    "        )\n",
    "precomp_hf = AltAz(location=location, obstime=obstimes)"
   ]
  },
  {
   "cell_type": "code",
   "execution_count": 5,
   "metadata": {},
   "outputs": [],
   "source": [
    "\n",
    "star_coordinates = np.array([(283.62620294, 36.89860518), (283.43149392, 36.97172755),\n",
    "     (282.9021706 , 36.53909869), (283.00625536, 37.51653133),\n",
    "     (283.55653432, 36.7334573 ), (283.78878233, 36.7417188 ),\n",
    "     (283.24644973, 37.31757581), (282.43184804, 36.67622242),\n",
    "     (283.54882153, 36.91439564), (283.50956631, 36.85570834),\n",
    "     (283.3405177 , 37.59512962)])\n",
    "\n",
    "stars = SkyCoord(ra=star_coordinates[:,0],dec=star_coordinates[:,1],unit='deg',frame='icrs')"
   ]
  },
  {
   "cell_type": "code",
   "execution_count": 6,
   "metadata": {},
   "outputs": [
    {
     "name": "stdout",
     "output_type": "stream",
     "text": [
      "CPU times: user 3.49 s, sys: 280 ms, total: 3.77 s\n",
      "Wall time: 8.35 s\n"
     ]
    },
    {
     "data": {
      "text/plain": [
       "(6000, 11)"
      ]
     },
     "execution_count": 6,
     "metadata": {},
     "output_type": "execute_result"
    }
   ],
   "source": [
    "%time stars_altaz = stars.transform_to(precomp_hf[:, np.newaxis])\n",
    "stars_altaz.shape"
   ]
  },
  {
   "cell_type": "code",
   "execution_count": 7,
   "metadata": {},
   "outputs": [
    {
     "name": "stdout",
     "output_type": "stream",
     "text": [
      "CPU times: user 1.56 s, sys: 16.8 ms, total: 1.58 s\n",
      "Wall time: 1.23 s\n"
     ]
    },
    {
     "data": {
      "text/plain": [
       "(6000, 11)"
      ]
     },
     "execution_count": 7,
     "metadata": {},
     "output_type": "execute_result"
    }
   ],
   "source": [
    "%time stars_altaz = stars.transform_to(precomp_hf[:, np.newaxis])\n",
    "stars_altaz.shape"
   ]
  },
  {
   "cell_type": "code",
   "execution_count": 8,
   "metadata": {},
   "outputs": [
    {
     "name": "stdout",
     "output_type": "stream",
     "text": [
      "CPU times: user 1.12 s, sys: 3.73 ms, total: 1.12 s\n",
      "Wall time: 1.12 s\n"
     ]
    },
    {
     "data": {
      "text/plain": [
       "(6000,)"
      ]
     },
     "execution_count": 8,
     "metadata": {},
     "output_type": "execute_result"
    }
   ],
   "source": [
    "onestar = stars[0]\n",
    "%time onestar_altaz = onestar.transform_to(precomp_hf)\n",
    "onestar_altaz.shape"
   ]
  },
  {
   "cell_type": "code",
   "execution_count": 1,
   "metadata": {},
   "outputs": [
    {
     "ename": "NameError",
     "evalue": "name 'CameraFrame' is not defined",
     "output_type": "error",
     "traceback": [
      "\u001b[0;31m---------------------------------------------------------------------------\u001b[0m",
      "\u001b[0;31mNameError\u001b[0m                                 Traceback (most recent call last)",
      "\u001b[0;32m<timed exec>\u001b[0m in \u001b[0;36m<module>\u001b[0;34m\u001b[0m\n",
      "\u001b[0;31mNameError\u001b[0m: name 'CameraFrame' is not defined"
     ]
    }
   ],
   "source": [
    "%time cf = CameraFrame(telescope_pointing=onestar_altaz , focal_length=u.Quantity(2.15, u.m),obstime=obstimes[0],location=location)"
   ]
  },
  {
   "cell_type": "code",
   "execution_count": null,
   "metadata": {},
   "outputs": [],
   "source": [
    "%time cf = CameraFrame(telescope_pointing=onestar_altaz , focal_length=u.Quantity(2.15, u.m),obstime=obstimes[0],location=location)"
   ]
  }
 ],
 "metadata": {
  "kernelspec": {
   "display_name": "cta",
   "language": "python",
   "name": "cta"
  },
  "language_info": {
   "codemirror_mode": {
    "name": "ipython",
    "version": 3
   },
   "file_extension": ".py",
   "mimetype": "text/x-python",
   "name": "python",
   "nbconvert_exporter": "python",
   "pygments_lexer": "ipython3",
   "version": "3.7.2"
  }
 },
 "nbformat": 4,
 "nbformat_minor": 2
}
