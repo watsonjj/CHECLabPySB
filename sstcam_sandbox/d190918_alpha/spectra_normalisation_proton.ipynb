{
 "cells": [
  {
   "cell_type": "code",
   "execution_count": 1,
   "metadata": {},
   "outputs": [],
   "source": [
    "import numpy as np\n",
    "from astropy import units as u\n",
    "from matplotlib import pyplot as plt\n",
    "%matplotlib inline"
   ]
  },
  {
   "cell_type": "code",
   "execution_count": 2,
   "metadata": {},
   "outputs": [],
   "source": [
    "@u.quantity_input\n",
    "def differential_flux(energy: u.TeV, norm: 1/(u.TeV * u.s * u.m**2 * u.sr), index):\n",
    "    return norm * energy.to_value(u.TeV) ** index"
   ]
  },
  {
   "cell_type": "code",
   "execution_count": 3,
   "metadata": {},
   "outputs": [],
   "source": [
    "@u.quantity_input\n",
    "def integrate(e_min: u.TeV, e_max: u.TeV, norm: 1/(u.TeV * u.s * u.m**2 * u.sr), index):\n",
    "    a = e_min.to_value('TeV')\n",
    "    b = e_max.to_value('TeV')\n",
    "    norm_ = norm.to(1 / (u.TeV * u.s * u.m**2 * u.sr)) * u.TeV\n",
    "    return norm_ * (1 / (index + 1)) * (b**(index + 1) - a**(index + 1))"
   ]
  },
  {
   "cell_type": "code",
   "execution_count": 4,
   "metadata": {},
   "outputs": [],
   "source": [
    "@u.quantity_input\n",
    "def observation_time(e_min: u.TeV, e_max: u.TeV, area:u.m**2, solid_angle:u.deg, norm: 1/(u.TeV * u.s * u.m**2 * u.sr), index, n_events):\n",
    "    angle = ((1 - np.cos(solid_angle.to_value('rad')))*2*np.pi*u.sr)\n",
    "    return (n_events / (integrate(e_min, e_max, norm, index) * area * angle)).to(u.s)"
   ]
  },
  {
   "cell_type": "code",
   "execution_count": 5,
   "metadata": {},
   "outputs": [],
   "source": [
    "@u.quantity_input\n",
    "def expected_events(e_min: u.TeV, e_max: u.TeV, area: u.m**2, solid_angle: u.deg, norm: 1/(u.TeV * u.s * u.m**2 * u.sr), index, t_obs: u.s):\n",
    "    angle = ((1 - np.cos(solid_angle.to_value('rad')))*2*np.pi*u.sr)\n",
    "    return (integrate(e_min, e_max, norm, index) * area * angle * t_obs).si.value"
   ]
  },
  {
   "cell_type": "code",
   "execution_count": 6,
   "metadata": {},
   "outputs": [],
   "source": [
    "@u.quantity_input\n",
    "def expected_events_for_bins(energy_bins: u.TeV, area:u.m**2, solid_angle: u.deg, norm: 1/(u.TeV * u.s * u.m**2 * u.sr), index, t_obs: u.s):\n",
    "    return np.array([expected_events(l, h, area, solid_angle, norm, index, t_obs) for (l, h) in zip(energy_bins[0:], energy_bins[1:])])"
   ]
  },
  {
   "cell_type": "code",
   "execution_count": 7,
   "metadata": {},
   "outputs": [],
   "source": [
    "@u.quantity_input\n",
    "def sample(e_min: u.TeV, e_max: u.TeV, index, size):\n",
    "    a = e_min.to_value('TeV') ** (index + 1)\n",
    "    b = e_max.to_value('TeV') ** (index + 1)\n",
    "    r = np.random.uniform(0, 1, size)\n",
    "    k = (a + (b - a) * r)\n",
    "    e = k ** (1. / (index + 1))\n",
    "    return u.Quantity(e, u.TeV, copy=False)"
   ]
  },
  {
   "cell_type": "code",
   "execution_count": 8,
   "metadata": {},
   "outputs": [],
   "source": [
    "@u.quantity_input\n",
    "def make_energy_bins(e_min: u.TeV, e_max: u.TeV, bins=10):\n",
    "    unit = e_min.unit\n",
    "    low = np.log10(e_min.value)\n",
    "    high = np.log10(e_max.value)\n",
    "    bin_edges = np.logspace(low, high, endpoint=True, num=bins + 1) * unit\n",
    "    bin_centers = 0.5 * (bin_edges[:-1] + bin_edges[1:])\n",
    "    bin_widths = np.diff(bin_edges)\n",
    "    return bin_edges, bin_centers, bin_widths"
   ]
  },
  {
   "cell_type": "code",
   "execution_count": 9,
   "metadata": {},
   "outputs": [
    {
     "name": "stdout",
     "output_type": "stream",
     "text": [
      "3783661.3735864256 events observed when observing the crab for 0.001 h\n"
     ]
    }
   ],
   "source": [
    "e_min = 0.003 * u.TeV \n",
    "e_max = 300 * u.TeV   \n",
    "area = 1 * u.km**2 \n",
    "angle = 1 * u.deg\n",
    "\n",
    "proton_norm = 9.6e-9 / (u.GeV * u.cm ** 2 * u.s * u.sr)\n",
    "proton_index = -2.7\n",
    "\n",
    "energy_bins, bin_center, bin_width = make_energy_bins(e_min=e_min, e_max=e_max, bins=20)\n",
    "\n",
    "# Lets say we observe the crab for 1 hour\n",
    "t_obs = 0.001 * u.h\n",
    "n_events = expected_events(e_min, e_max, area, angle, proton_norm, proton_index, t_obs)\n",
    "print(f\"{n_events} events observed when observing the crab for {t_obs}\")\n",
    "obs_events = sample(e_min, e_max, proton_index, int(n_events))\n",
    "obs_binned_events = expected_events_for_bins(energy_bins, area, angle, proton_norm, proton_index, t_obs)"
   ]
  },
  {
   "cell_type": "code",
   "execution_count": 18,
   "metadata": {},
   "outputs": [],
   "source": [
    "# Define simulation spectrum\n",
    "mc_index = -2\n",
    "n_mc_events = 100000\n",
    "# Set MC spectrum normalisation such that it gives us the correct number of events\n",
    "N = integrate(e_min, e_max, 1/(u.TeV * u.s * u.m**2 * u.sr), mc_index) * area * 1*u.s\n",
    "mc_norm = (n_mc_events / N).si.value / (u.TeV * u.m**2 * u.s)\n",
    "\n",
    "# Now lets run our simulation\n",
    "mc_events = sample(e_min, e_max, mc_index, n_mc_events)"
   ]
  },
  {
   "cell_type": "code",
   "execution_count": 19,
   "metadata": {},
   "outputs": [
    {
     "data": {
      "text/latex": [
       "$333.33 \\; \\mathrm{\\frac{1}{s\\,sr\\,m^{2}}}$"
      ],
      "text/plain": [
       "<Quantity 333.33 1 / (m2 s sr)>"
      ]
     },
     "execution_count": 19,
     "metadata": {},
     "output_type": "execute_result"
    }
   ],
   "source": [
    "integrate(e_min, e_max, 1/(u.TeV * u.s * u.m**2 * u.sr), mc_index)"
   ]
  },
  {
   "cell_type": "code",
   "execution_count": 20,
   "metadata": {},
   "outputs": [
    {
     "data": {
      "text/latex": [
       "$[0.0036581596,~0.0031395296,~0.0038590187,~\\dots,~0.0042694044,~0.0045222192,~0.026399215] \\; \\mathrm{TeV}$"
      ],
      "text/plain": [
       "<Quantity [0.00365816, 0.00313953, 0.00385902, ..., 0.0042694 , 0.00452222,\n",
       "           0.02639922] TeV>"
      ]
     },
     "execution_count": 20,
     "metadata": {},
     "output_type": "execute_result"
    }
   ],
   "source": [
    "obs_events"
   ]
  },
  {
   "cell_type": "code",
   "execution_count": 21,
   "metadata": {},
   "outputs": [
    {
     "data": {
      "image/png": "[encoded data removed]",
      "text/plain": [
       "<Figure size 432x288 with 1 Axes>"
      ]
     },
     "metadata": {
      "needs_background": "light"
     },
     "output_type": "display_data"
    }
   ],
   "source": [
    "plt.errorbar(\n",
    "    bin_center.value, obs_binned_events, xerr=bin_width.value * 0.5,\n",
    "    linestyle='', marker='.', label='expected events from crab', color='black',\n",
    ")\n",
    "plt.hist(obs_events.value, energy_bins.value, histtype='step', color='black')\n",
    "plt.hist(mc_events.value, energy_bins.value, histtype='step', color='red')\n",
    "plt.xlabel(\"Energy (TeV)\")\n",
    "plt.ylabel(\"N Events\")\n",
    "plt.xscale('log')\n",
    "plt.yscale('log')"
   ]
  },
  {
   "cell_type": "code",
   "execution_count": 25,
   "metadata": {},
   "outputs": [],
   "source": [
    "@u.quantity_input\n",
    "def norm_proton(e_min: u.TeV, e_max: u.TeV,\n",
    "                area: u.m**2, solid_angle: u.deg, mc_index, energies: u.TeV):\n",
    "    norm = 9.6e-9 / (u.GeV * u.cm ** 2 * u.s * u.sr)\n",
    "    index = -2.7\n",
    "\n",
    "    weights = energies.to_value(u.TeV) ** (index - mc_index)\n",
    "\n",
    "    a = e_min.to_value('TeV')\n",
    "    b = e_max.to_value('TeV')\n",
    "    norm_ = norm.to(1 / (u.TeV * u.s * u.m**2 * u.sr)) * u.TeV\n",
    "    angle = ((1 - np.cos(solid_angle.to_value('rad')))*2*np.pi*u.sr)\n",
    "    integral = norm_ * (b**(mc_index + 1) - a**(mc_index + 1)) / (mc_index + 1)\n",
    "    #integral = norm_ * (b**(index + 1) - a**(index + 1)) / (index + 1)\n",
    "    #integral = norm_ * (b**(source_index) - a**(source_index))\n",
    "    t_norm = (energies.size / (integral * area * angle)).to_value(u.s)\n",
    "\n",
    "    return weights, t_norm"
   ]
  },
  {
   "cell_type": "code",
   "execution_count": 26,
   "metadata": {},
   "outputs": [
    {
     "name": "stdout",
     "output_type": "stream",
     "text": [
      "3.2655834116582954\n",
      "1048634.0188596882 100000 1051017.048218451\n"
     ]
    },
    {
     "name": "stderr",
     "output_type": "stream",
     "text": [
      "/Users/Jason/opt/anaconda3/envs/cta/lib/python3.7/site-packages/ipykernel_launcher.py:17: RuntimeWarning: invalid value encountered in true_divide\n",
      "/Users/Jason/opt/anaconda3/envs/cta/lib/python3.7/site-packages/ipykernel_launcher.py:27: RuntimeWarning: invalid value encountered in true_divide\n"
     ]
    },
    {
     "data": {
      "image/png": "[encoded data removed]",
      "text/plain": [
       "<Figure size 432x288 with 1 Axes>"
      ]
     },
     "metadata": {
      "needs_background": "light"
     },
     "output_type": "display_data"
    }
   ],
   "source": [
    "weights, T_mc = norm_proton(e_min, e_max, area, angle, mc_index, mc_events)\n",
    "print(T_mc)\n",
    "\n",
    "hist_mc, bin_edges = np.histogram(mc_events, weights=weights, bins=energy_bins)\n",
    "hist_mc_err, _ = np.histogram(mc_events, bins=energy_bins)\n",
    "hist_mc_err, _ = np.histogram(mc_events, bins=energy_bins)\n",
    "bin_mids = (bin_edges[1:] + bin_edges[:-1]) * 0.5\n",
    "\n",
    "print((hist_mc/T_mc).sum(), hist_mc_err.sum(), (obs_binned_events/t_obs.to_value(u.s)).sum())\n",
    "\n",
    "plt.errorbar(\n",
    "    bin_center.value, obs_binned_events/t_obs.to_value(u.s), xerr=bin_width.value * 0.5,\n",
    "    linestyle='', marker='.', label='expected events from crab', color='black',\n",
    ")\n",
    "plt.errorbar(\n",
    "    bin_mids, hist_mc/T_mc, \n",
    "    (hist_mc / hist_mc_err) * np.sqrt(hist_mc_err)/T_mc, \n",
    "    np.diff(bin_edges) * 0.5, \n",
    "    linestyle='', color='red'\n",
    ")\n",
    "\n",
    "hist_mc, bin_edges = np.histogram(mc_events, weights=weights/T_mc, bins=energy_bins)\n",
    "hist_mc_err, _ = np.histogram(mc_events, bins=energy_bins)\n",
    "bin_mids = (bin_edges[1:] + bin_edges[:-1]) * 0.5\n",
    "plt.errorbar(\n",
    "    bin_mids, hist_mc, \n",
    "    (hist_mc / hist_mc_err) * np.sqrt(hist_mc_err), \n",
    "    np.diff(bin_edges) * 0.5, \n",
    "    linestyle='', color='blue'\n",
    ")\n",
    "\n",
    "plt.xlabel(\"Energy (TeV)\")\n",
    "plt.ylabel(\"Events/second\")\n",
    "plt.xscale('log')\n",
    "plt.yscale('log')"
   ]
  },
  {
   "cell_type": "code",
   "execution_count": 16,
   "metadata": {},
   "outputs": [
    {
     "data": {
      "text/plain": [
       "array([3.03913192e+01, 1.52064190e+01, 7.63025743e+00, 3.81762775e+00,\n",
       "       1.91884015e+00, 9.58008793e-01, 4.82698454e-01, 2.38886273e-01,\n",
       "       1.21110852e-01, 6.07638182e-02, 3.04235027e-02, 1.53411502e-02,\n",
       "       7.73216690e-03, 3.81079188e-03, 1.84431667e-03, 1.02798022e-03,\n",
       "       4.61076128e-04, 2.63851562e-04, 1.39430370e-04, 5.90700800e-05])"
      ]
     },
     "execution_count": 16,
     "metadata": {},
     "output_type": "execute_result"
    }
   ],
   "source": [
    "(hist_mc / hist_mc_err) * np.sqrt(hist_mc_err)/T_mc"
   ]
  },
  {
   "cell_type": "code",
   "execution_count": 17,
   "metadata": {},
   "outputs": [
    {
     "data": {
      "text/plain": [
       "1051626.62741657"
      ]
     },
     "execution_count": 17,
     "metadata": {},
     "output_type": "execute_result"
    }
   ],
   "source": [
    "hist_mc.sum()"
   ]
  },
  {
   "cell_type": "code",
   "execution_count": null,
   "metadata": {},
   "outputs": [],
   "source": []
  },
  {
   "cell_type": "code",
   "execution_count": null,
   "metadata": {},
   "outputs": [],
   "source": []
  }
 ],
 "metadata": {
  "kernelspec": {
   "display_name": "Python [conda env:cta] *",
   "language": "python",
   "name": "conda-env-cta-py"
  },
  "language_info": {
   "codemirror_mode": {
    "name": "ipython",
    "version": 3
   },
   "file_extension": ".py",
   "mimetype": "text/x-python",
   "name": "python",
   "nbconvert_exporter": "python",
   "pygments_lexer": "ipython3",
   "version": "3.7.4"
  }
 },
 "nbformat": 4,
 "nbformat_minor": 2
}
