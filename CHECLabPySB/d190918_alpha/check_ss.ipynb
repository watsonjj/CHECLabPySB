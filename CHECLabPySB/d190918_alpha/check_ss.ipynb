{
 "cells": [
  {
   "cell_type": "code",
   "execution_count": 1,
   "metadata": {},
   "outputs": [],
   "source": [
    "import astropy.units as u\n",
    "from astropy.time import Time\n",
    "import copy\n",
    "import numpy as np\n",
    "from os.path import abspath, dirname, join\n",
    "import matplotlib.pyplot as plt\n",
    "%matplotlib inline"
   ]
  },
  {
   "cell_type": "code",
   "execution_count": 2,
   "metadata": {},
   "outputs": [
    {
     "name": "stderr",
     "output_type": "stream",
     "text": [
      "WARNING: AstropyDeprecationWarning: astropy.extern.six will be removed in 4.0, use the six module directly if it is still needed [astropy.extern.six]\n"
     ]
    }
   ],
   "source": [
    "from astropy.coordinates import SkyCoord, AltAz, EarthLocation\n",
    "from astroquery.vizier import Vizier\n",
    "from ctapipe.instrument import CameraGeometry\n",
    "from ctapipe.visualization import CameraDisplay\n",
    "from ctapipe.coordinates import (\n",
    "    GroundFrame,\n",
    "    TiltedGroundFrame,\n",
    "    NominalFrame,\n",
    "    TelescopeFrame,\n",
    "    CameraFrame,\n",
    "    EngineeringCameraFrame,\n",
    ")"
   ]
  },
  {
   "cell_type": "code",
   "execution_count": 3,
   "metadata": {},
   "outputs": [],
   "source": [
    "from CHECLabPy.core.io import HDF5Reader, HDF5Writer\n",
    "from CHECOnsky.scripts_analysis.add_pointing_to_hillas import LOCATION, \\\n",
    "    EngineeringCameraFrame, calculate_alpha\n",
    "from CHECLabPySB import get_data\n",
    "import numpy as np\n",
    "import pandas as pd\n",
    "from astropy.coordinates import SkyCoord, AltAz\n",
    "from astropy import units as u\n",
    "\n",
    "\n",
    "FOCAL_LENGTH = u.Quantity(2.1500001, u.m)\n",
    "\n",
    "\n",
    "def get_telescope_pointing(df_pointing):\n",
    "    obstime = df_pointing['t_cpu']\n",
    "    alt = (df_pointing['altitude_raw'] +\n",
    "           df_pointing['altitude_cor']).values\n",
    "    az = (df_pointing['azimuth_raw'] +\n",
    "          df_pointing['azimuth_cor']).values\n",
    "    altaz_frame = AltAz(location=LOCATION, obstime=obstime)\n",
    "    return SkyCoord(\n",
    "        alt=alt,\n",
    "        az=az,\n",
    "        unit='rad',\n",
    "        frame=altaz_frame,\n",
    "    )\n",
    "\n",
    "\n",
    "def get_engineering_frame(telescope_pointing):\n",
    "    return EngineeringCameraFrame(\n",
    "        n_mirrors=2,\n",
    "        location=LOCATION,\n",
    "        obstime=telescope_pointing.obstime,\n",
    "        focal_length=FOCAL_LENGTH,\n",
    "        telescope_pointing=telescope_pointing,\n",
    "    )\n",
    "\n",
    "\n",
    "def get_camera_coords(df_source, telescope_pointing, engineering_frame, angle):\n",
    "    source_ra = df_source['source_ra']\n",
    "    source_dec = df_source['source_dec']\n",
    "\n",
    "    source_skycoord = SkyCoord(source_ra, source_dec, unit='deg', frame='icrs')\n",
    "    if angle.value == 0:\n",
    "        off_skycoord = source_skycoord\n",
    "    else:\n",
    "        position_angle = telescope_pointing.position_angle(\n",
    "            source_skycoord\n",
    "        ).to(u.deg) - angle\n",
    "        seperation = telescope_pointing.separation(source_skycoord)\n",
    "        off_skycoord = telescope_pointing.directional_offset_by(\n",
    "            position_angle=position_angle,\n",
    "            separation=seperation\n",
    "        )\n",
    "\n",
    "    off_cam = off_skycoord.transform_to(engineering_frame)\n",
    "    x_off = off_cam.x.value\n",
    "    y_off = off_cam.y.value\n",
    "    return x_off, y_off\n"
   ]
  },
  {
   "cell_type": "code",
   "execution_count": 4,
   "metadata": {},
   "outputs": [],
   "source": [
    "ss_image = np.load('/Users/Jason/Software/CHECLabPySB/CHECLabPySB/d190607_pointing/DracoIm.npy')"
   ]
  },
  {
   "cell_type": "code",
   "execution_count": 19,
   "metadata": {},
   "outputs": [],
   "source": [
    "stars = SkyCoord([\n",
    "    (269.151667, 51.488889), \n",
    "    (262.608333, 52.301389),\n",
    "    (263.066667, 55.173056),\n",
    "    (263.044167, 55.184167)\n",
    "] * u.deg, frame='icrs')"
   ]
  },
  {
   "cell_type": "code",
   "execution_count": 22,
   "metadata": {},
   "outputs": [],
   "source": [
    "# Define pointing\n",
    "#location=EarthLocation.from_geodetic(lon=14.974609, lat=37.693267, height=1750)\n",
    "obstime=Time(\"2019-05-09T01:37:54.728026\")\n",
    "\n",
    "altaz_frame = AltAz(location=LOCATION, obstime=obstime)\n",
    "\n",
    "alt = 73.21 * u.deg\n",
    "az = 0.5 * u.deg\n",
    "\n",
    "telescope_pointing = SkyCoord(\n",
    "    alt=alt, \n",
    "    az=az, \n",
    "    frame=altaz_frame,\n",
    ")\n",
    "engineering_frame = get_engineering_frame(telescope_pointing)"
   ]
  },
  {
   "cell_type": "code",
   "execution_count": 23,
   "metadata": {},
   "outputs": [],
   "source": [
    "# Get pixel coordinates from TargetCalib\n",
    "from target_calib import CameraConfiguration\n",
    "camera_config = CameraConfiguration(\"1.1.0\")\n",
    "m = camera_config.GetMapping()\n",
    "\n",
    "xpix = np.array(m.GetXPixVector()) * u.m\n",
    "ypix = np.array(m.GetYPixVector()) * u.m\n",
    "size = m.GetSize() * u.m\n",
    "area = size**2\n",
    "pix_area = np.full(xpix.size, area) * area.unit\n",
    "\n",
    "engineering_camera_geom = CameraGeometry(\n",
    "    \"CHEC\",\n",
    "    pix_id=np.arange(xpix.size),\n",
    "    pix_x=xpix,\n",
    "    pix_y=ypix,\n",
    "    pix_area=pix_area,\n",
    "    pix_type='rectangular',\n",
    "    frame=engineering_frame\n",
    ")"
   ]
  },
  {
   "cell_type": "code",
   "execution_count": 8,
   "metadata": {},
   "outputs": [],
   "source": [
    "# Get stars\n",
    "stars_eng = stars.transform_to(engineering_frame)"
   ]
  },
  {
   "cell_type": "code",
   "execution_count": 26,
   "metadata": {},
   "outputs": [
    {
     "data": {
      "text/plain": [
       "[<matplotlib.lines.Line2D at 0x12b392208>]"
      ]
     },
     "execution_count": 26,
     "metadata": {},
     "output_type": "execute_result"
    },
    {
     "data": {
      "image/png": "[encoded data removed]",
      "text/plain": [
       "<Figure size 432x288 with 1 Axes>"
      ]
     },
     "metadata": {
      "needs_background": "light"
     },
     "output_type": "display_data"
    }
   ],
   "source": [
    "display_camera = CameraDisplay(\n",
    "    engineering_camera_geom, \n",
    "    image=ss_image,\n",
    "    title=\"EngineeringCameraFrame\",\n",
    "    cmap='inferno'\n",
    ")\n",
    "display_camera.set_limits_minmax(-10, 100)\n",
    "\n",
    "plt.plot(stars_eng.x.value, stars_eng.y.value, 'wo', color='white', mfc='none', ms=25, mew=2)"
   ]
  },
  {
   "cell_type": "code",
   "execution_count": null,
   "metadata": {},
   "outputs": [],
   "source": []
  }
 ],
 "metadata": {
  "kernelspec": {
   "display_name": "cta",
   "language": "python",
   "name": "cta"
  },
  "language_info": {
   "codemirror_mode": {
    "name": "ipython",
    "version": 3
   },
   "file_extension": ".py",
   "mimetype": "text/x-python",
   "name": "python",
   "nbconvert_exporter": "python",
   "pygments_lexer": "ipython3",
   "version": "3.7.2"
  }
 },
 "nbformat": 4,
 "nbformat_minor": 2
}
