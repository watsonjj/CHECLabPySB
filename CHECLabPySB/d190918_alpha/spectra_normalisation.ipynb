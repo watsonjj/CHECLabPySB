{
 "cells": [
  {
   "cell_type": "code",
   "execution_count": 82,
   "metadata": {},
   "outputs": [],
   "source": [
    "import numpy as np\n",
    "from astropy import units as u\n",
    "from matplotlib import pyplot as plt\n",
    "%matplotlib inline"
   ]
  },
  {
   "cell_type": "code",
   "execution_count": 136,
   "metadata": {},
   "outputs": [],
   "source": [
    "@u.quantity_input\n",
    "def differential_flux(energy: u.TeV, norm: 1/(u.TeV * u.s * u.m**2), index):\n",
    "    return norm * energy.to_value(u.TeV) ** index"
   ]
  },
  {
   "cell_type": "code",
   "execution_count": 25,
   "metadata": {},
   "outputs": [],
   "source": [
    "@u.quantity_input\n",
    "def integrate(e_min: u.TeV, e_max: u.TeV, norm: 1/(u.TeV * u.s * u.m**2), index):\n",
    "    a = e_min.to_value('TeV')\n",
    "    b = e_max.to_value('TeV')\n",
    "    norm_ = norm.to(1 / (u.TeV * u.s * u.m**2)) * u.TeV\n",
    "    return norm_ * (1 / (index + 1)) * (b**(index + 1) - a**(index + 1))"
   ]
  },
  {
   "cell_type": "code",
   "execution_count": 143,
   "metadata": {},
   "outputs": [],
   "source": [
    "@u.quantity_input\n",
    "def observation_time(e_min: u.TeV, e_max: u.TeV, area:u.m**2, norm: 1/(u.TeV * u.s * u.m**2), index, n_events):\n",
    "    return (n_events / (integrate(e_min, e_max, norm, index) * area)).to(u.s)"
   ]
  },
  {
   "cell_type": "code",
   "execution_count": 87,
   "metadata": {},
   "outputs": [],
   "source": [
    "@u.quantity_input\n",
    "def expected_events(e_min: u.TeV, e_max: u.TeV, area:u.m**2, norm: 1/(u.TeV * u.s * u.m**2), index, t_obs: u.s):\n",
    "    return (integrate(e_min, e_max, norm, index) * area * t_obs).si.value"
   ]
  },
  {
   "cell_type": "code",
   "execution_count": 102,
   "metadata": {},
   "outputs": [],
   "source": [
    "@u.quantity_input\n",
    "def expected_events_for_bins(energy_bins: u.TeV, area:u.m**2, norm: 1/(u.TeV * u.s * u.m**2), index, t_obs: u.s):\n",
    "    return np.array([expected_events(l, h, area, norm, index, t_obs) for (l, h) in zip(energy_bins[0:], energy_bins[1:])])"
   ]
  },
  {
   "cell_type": "code",
   "execution_count": 103,
   "metadata": {},
   "outputs": [],
   "source": [
    "@u.quantity_input\n",
    "def sample(e_min: u.TeV, e_max: u.TeV, index, size):\n",
    "    a = e_min.to_value('TeV') ** (index + 1)\n",
    "    b = e_max.to_value('TeV') ** (index + 1)\n",
    "    r = np.random.uniform(0, 1, size)\n",
    "    k = (a + (b - a) * r)\n",
    "    e = k ** (1. / (index + 1))\n",
    "    return u.Quantity(e, u.TeV, copy=False)"
   ]
  },
  {
   "cell_type": "code",
   "execution_count": 104,
   "metadata": {},
   "outputs": [],
   "source": [
    "@u.quantity_input\n",
    "def make_energy_bins(e_min: u.TeV, e_max: u.TeV, bins=10):\n",
    "    unit = e_min.unit\n",
    "    low = np.log10(e_min.value)\n",
    "    high = np.log10(e_max.value)\n",
    "    bin_edges = np.logspace(low, high, endpoint=True, num=bins + 1) * unit\n",
    "    bin_centers = 0.5 * (bin_edges[:-1] + bin_edges[1:])\n",
    "    bin_widths = np.diff(bin_edges)\n",
    "    return bin_edges, bin_centers, bin_widths"
   ]
  },
  {
   "cell_type": "code",
   "execution_count": 105,
   "metadata": {},
   "outputs": [],
   "source": [
    "energy_bins, bin_center, bin_width = make_energy_bins(e_min=e_min, e_max=e_max, bins=20)"
   ]
  },
  {
   "cell_type": "code",
   "execution_count": 106,
   "metadata": {},
   "outputs": [
    {
     "name": "stdout",
     "output_type": "stream",
     "text": [
      "7684886.994993243 events observed when observing the crab for 1.0 h\n"
     ]
    }
   ],
   "source": [
    "e_min = 0.003 * u.TeV \n",
    "e_max = 300 * u.TeV   \n",
    "area = 1 * u.km**2    \n",
    "\n",
    "crab_norm = u.Quantity(2.83e-14, 1/(u.GeV * u.cm**2 * u.s), copy=False)\n",
    "crab_index = -2.62\n",
    "\n",
    "# Lets say we observe the crab for 1 hour\n",
    "t_obs = 1 * u.h\n",
    "n_events = expected_events(e_min, e_max, area, crab_norm, crab_index, t_obs)\n",
    "print(f\"{n_events} events observed when observing the crab for {t_obs}\")\n",
    "obs_events = sample(e_min, e_max, crab_index, int(n_events))\n",
    "obs_binned_events = expected_events_for_bins(energy_bins, area, crab_norm, crab_index, t_obs)"
   ]
  },
  {
   "cell_type": "code",
   "execution_count": 98,
   "metadata": {},
   "outputs": [],
   "source": [
    "# Define simulation spectrum\n",
    "mc_index = -2\n",
    "n_mc_events = 100000\n",
    "# Set MC spectrum normalisation such that it gives us the correct number of events\n",
    "N = integrate(e_min, e_max, 1/(u.TeV * u.s * u.m**2), mc_index) * area * 1*u.s\n",
    "mc_norm = (n_mc_events / N).si.value / (u.TeV * u.m**2 * u.s)\n",
    "\n",
    "# Now lets run our simulation\n",
    "mc_events = sample(e_min, e_max, mc_index, n_mc_events)"
   ]
  },
  {
   "cell_type": "code",
   "execution_count": 138,
   "metadata": {},
   "outputs": [
    {
     "data": {
      "image/png": "[encoded data removed]",
      "text/plain": [
       "<Figure size 432x288 with 1 Axes>"
      ]
     },
     "metadata": {
      "needs_background": "light"
     },
     "output_type": "display_data"
    }
   ],
   "source": [
    "plt.errorbar(\n",
    "    bin_center.value, obs_binned_events, xerr=bin_width.value * 0.5,\n",
    "    linestyle='', marker='.', label='expected events from crab', color='black',\n",
    ")\n",
    "plt.hist(obs_events, energy_bins, histtype='step', color='black')\n",
    "plt.hist(mc_events, energy_bins, histtype='step', color='red')\n",
    "plt.xlabel(\"Energy (TeV)\")\n",
    "plt.ylabel(\"N Events\")\n",
    "plt.xscale('log')\n",
    "plt.yscale('log')"
   ]
  },
  {
   "cell_type": "code",
   "execution_count": 140,
   "metadata": {},
   "outputs": [
    {
     "data": {
      "image/png": "[encoded data removed]",
      "text/plain": [
       "<Figure size 432x288 with 1 Axes>"
      ]
     },
     "metadata": {
      "needs_background": "light"
     },
     "output_type": "display_data"
    }
   ],
   "source": [
    "# We wish to reweigh our MC simulated events such that they match the Crab Spectrum\n",
    "n_mc_events_expected = expected_events(e_min, e_max, area, mc_norm, mc_index, t_obs)\n",
    "crab_flux = differential_flux(mc_events, crab_norm, crab_index)\n",
    "mc_flux = differential_flux(mc_events, mc_norm, mc_index)\n",
    "weights = (n_mc_events_expected / n_mc_events) * (crab_flux / mc_flux).si.value\n",
    "\n",
    "plt.errorbar(\n",
    "    bin_center.value, obs_binned_events, xerr=bin_width.value * 0.5,\n",
    "    linestyle='', marker='.', label='expected events from crab', color='black',\n",
    ")\n",
    "plt.hist(mc_events, energy_bins, weights=weights, histtype='step', color='red')\n",
    "plt.xlabel(\"Energy (TeV)\")\n",
    "plt.ylabel(\"N Events\")\n",
    "plt.xscale('log')\n",
    "plt.yscale('log')"
   ]
  },
  {
   "cell_type": "code",
   "execution_count": 190,
   "metadata": {},
   "outputs": [
    {
     "name": "stderr",
     "output_type": "stream",
     "text": [
      "/Users/Jason/anaconda3/envs/cta/lib/python3.7/site-packages/ipykernel_launcher.py:24: RuntimeWarning: invalid value encountered in true_divide\n"
     ]
    },
    {
     "data": {
      "image/png": "[encoded data removed]",
      "text/plain": [
       "<Figure size 432x288 with 1 Axes>"
      ]
     },
     "metadata": {
      "needs_background": "light"
     },
     "output_type": "display_data"
    }
   ],
   "source": [
    "# Now lets try Sabrina's weighting, and expression in terms of events per second\n",
    "T_mc = n_mc_events * (mc_index + 1)\n",
    "T_mc = T_mc / area\n",
    "emax = e_max.to('TeV') / u.TeV\n",
    "emin = e_min.to('TeV') / u.TeV\n",
    "T_mc = T_mc / (emax**(mc_index + 1) - emin**(mc_index + 1))\n",
    "norm = crab_norm.to(1 / (u.TeV * u.s * u.m**2)) * u.TeV\n",
    "T_mc = T_mc / norm\n",
    "T_mc = T_mc.to_value(u.s)\n",
    "# NOTE: The crab normalisation is used here! Not the MC norm\n",
    "\n",
    "weights = mc_events.to_value(u.TeV) ** (-mc_index + crab_index)\n",
    "\n",
    "hist_mc, bin_edges = np.histogram(mc_events, weights=weights, bins=energy_bins)\n",
    "hist_mc_err, _ = np.histogram(mc_events, bins=energy_bins)\n",
    "bin_mids = (bin_edges[1:] + bin_edges[:-1]) * 0.5\n",
    "\n",
    "plt.errorbar(\n",
    "    bin_center.value, obs_binned_events/t_obs.to_value(u.s), xerr=bin_width.value * 0.5,\n",
    "    linestyle='', marker='.', label='expected events from crab', color='black',\n",
    ")\n",
    "plt.errorbar(\n",
    "    bin_mids, hist_mc/T_mc, \n",
    "    (hist_mc / hist_mc_err) * np.sqrt(hist_mc_err)/T_mc, \n",
    "    np.diff(bin_edges) * 0.5, \n",
    "    linestyle='', color='red'\n",
    ")\n",
    "plt.xlabel(\"Energy (TeV)\")\n",
    "plt.ylabel(\"Events/second\")\n",
    "plt.xscale('log')\n",
    "plt.yscale('log')"
   ]
  }
 ],
 "metadata": {
  "kernelspec": {
   "display_name": "cta",
   "language": "python",
   "name": "cta"
  },
  "language_info": {
   "codemirror_mode": {
    "name": "ipython",
    "version": 3
   },
   "file_extension": ".py",
   "mimetype": "text/x-python",
   "name": "python",
   "nbconvert_exporter": "python",
   "pygments_lexer": "ipython3",
   "version": "3.7.2"
  }
 },
 "nbformat": 4,
 "nbformat_minor": 2
}
