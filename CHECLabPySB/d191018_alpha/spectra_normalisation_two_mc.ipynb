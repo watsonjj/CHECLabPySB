{
 "cells": [
  {
   "cell_type": "code",
   "execution_count": 142,
   "metadata": {},
   "outputs": [],
   "source": [
    "import numpy as np\n",
    "from astropy import units as u\n",
    "from matplotlib import pyplot as plt\n",
    "%matplotlib inline"
   ]
  },
  {
   "cell_type": "code",
   "execution_count": 143,
   "metadata": {},
   "outputs": [],
   "source": [
    "@u.quantity_input\n",
    "def differential_flux(energy: u.TeV, norm: 1/(u.TeV * u.s * u.m**2), index):\n",
    "    return norm * energy.to_value(u.TeV) ** index"
   ]
  },
  {
   "cell_type": "code",
   "execution_count": 144,
   "metadata": {},
   "outputs": [],
   "source": [
    "@u.quantity_input\n",
    "def integrate(e_min: u.TeV, e_max: u.TeV, norm: 1/(u.TeV * u.s * u.m**2), index):\n",
    "    a = e_min.to_value('TeV')\n",
    "    b = e_max.to_value('TeV')\n",
    "    norm_ = norm.to(1 / (u.TeV * u.s * u.m**2)) * u.TeV\n",
    "    return norm_ * (1 / (index + 1)) * (b**(index + 1) - a**(index + 1))"
   ]
  },
  {
   "cell_type": "code",
   "execution_count": 145,
   "metadata": {},
   "outputs": [],
   "source": [
    "@u.quantity_input\n",
    "def observation_time(e_min: u.TeV, e_max: u.TeV, area:u.m**2, norm: 1/(u.TeV * u.s * u.m**2), index, n_events):\n",
    "    return (n_events / (integrate(e_min, e_max, norm, index) * area)).to(u.s)"
   ]
  },
  {
   "cell_type": "code",
   "execution_count": 146,
   "metadata": {},
   "outputs": [],
   "source": [
    "@u.quantity_input\n",
    "def expected_events(e_min: u.TeV, e_max: u.TeV, area:u.m**2, norm: 1/(u.TeV * u.s * u.m**2), index, t_obs: u.s):\n",
    "    return (integrate(e_min, e_max, norm, index) * area * t_obs).si.value"
   ]
  },
  {
   "cell_type": "code",
   "execution_count": 147,
   "metadata": {},
   "outputs": [],
   "source": [
    "@u.quantity_input\n",
    "def expected_events_for_bins(energy_bins: u.TeV, area:u.m**2, norm: 1/(u.TeV * u.s * u.m**2), index, t_obs: u.s):\n",
    "    return np.array([expected_events(l, h, area, norm, index, t_obs) for (l, h) in zip(energy_bins[0:], energy_bins[1:])])"
   ]
  },
  {
   "cell_type": "code",
   "execution_count": 148,
   "metadata": {},
   "outputs": [],
   "source": [
    "@u.quantity_input\n",
    "def sample(e_min: u.TeV, e_max: u.TeV, index, size):\n",
    "    a = e_min.to_value('TeV') ** (index + 1)\n",
    "    b = e_max.to_value('TeV') ** (index + 1)\n",
    "    r = np.random.uniform(0, 1, size)\n",
    "    k = (a + (b - a) * r)\n",
    "    e = k ** (1. / (index + 1))\n",
    "    return u.Quantity(e, u.TeV, copy=False)"
   ]
  },
  {
   "cell_type": "code",
   "execution_count": 149,
   "metadata": {},
   "outputs": [],
   "source": [
    "@u.quantity_input\n",
    "def make_energy_bins(e_min: u.TeV, e_max: u.TeV, bins=10):\n",
    "    unit = e_min.unit\n",
    "    low = np.log10(e_min.value)\n",
    "    high = np.log10(e_max.value)\n",
    "    bin_edges = np.logspace(low, high, endpoint=True, num=bins + 1) * unit\n",
    "    bin_centers = 0.5 * (bin_edges[:-1] + bin_edges[1:])\n",
    "    bin_widths = np.diff(bin_edges)\n",
    "    return bin_edges, bin_centers, bin_widths"
   ]
  },
  {
   "cell_type": "code",
   "execution_count": 150,
   "metadata": {},
   "outputs": [],
   "source": [
    "energy_bins, bin_center, bin_width = make_energy_bins(e_min=e_min, e_max=e_max, bins=20)"
   ]
  },
  {
   "cell_type": "code",
   "execution_count": 151,
   "metadata": {},
   "outputs": [],
   "source": [
    "# Define Crab spectra\n",
    "crab_norm = u.Quantity(2.83e-14, 1/(u.GeV * u.cm**2 * u.s), copy=False)\n",
    "crab_index = -2.62"
   ]
  },
  {
   "cell_type": "code",
   "execution_count": 152,
   "metadata": {},
   "outputs": [],
   "source": [
    "area = 1 * u.km**2\n",
    "crab_e_min = 0.003 * u.TeV\n",
    "crab_e_max = 300 * u.TeV\n",
    "\n",
    "\n",
    "\n",
    "crab_energy_bins, crab_bin_center, crab_bin_width = make_energy_bins(e_min=crab_e_min, e_max=crab_e_max, bins=20)"
   ]
  },
  {
   "cell_type": "code",
   "execution_count": 153,
   "metadata": {},
   "outputs": [
    {
     "name": "stdout",
     "output_type": "stream",
     "text": [
      "Total Crab rate: 2134.69 events/sec\n"
     ]
    }
   ],
   "source": [
    "# Obtain rate of events from crab\n",
    "crab_rate = expected_events_for_bins(crab_energy_bins, area, crab_norm, crab_index, 1 * u.s)\n",
    "print(f\"Total Crab rate: {crab_rate.sum():.2f} events/sec\")"
   ]
  },
  {
   "cell_type": "code",
   "execution_count": 154,
   "metadata": {},
   "outputs": [],
   "source": [
    "# Define first simulation spectrum\n",
    "mc1_index = -2\n",
    "n_mc1_events = 100000\n",
    "mc1_e_min = 0.003 * u.TeV\n",
    "mc1_e_max = 10 * u.TeV\n",
    "# Set MC spectrum normalisation such that it gives us the correct number of events\n",
    "N = integrate(mc1_e_min, mc1_e_max, 1/(u.TeV * u.s * u.m**2), mc1_index) * area * 1*u.s\n",
    "mc1_norm = (n_mc1_events / N).si.value / (u.TeV * u.m**2 * u.s)\n",
    "\n",
    "# Now lets run our simulation\n",
    "mc1_events = sample(mc1_e_min, mc1_e_max, mc1_index, n_mc1_events)"
   ]
  },
  {
   "cell_type": "code",
   "execution_count": 155,
   "metadata": {},
   "outputs": [],
   "source": [
    "# Define second simulation spectrum\n",
    "mc2_index = -1.4\n",
    "n_mc2_events = 500000\n",
    "mc2_e_min = 0.1 * u.TeV\n",
    "mc2_e_max = 300 * u.TeV\n",
    "# Set MC spectrum normalisation such that it gives us the correct number of events\n",
    "N = integrate(mc2_e_min, mc2_e_max, 1/(u.TeV * u.s * u.m**2), mc2_index) * area * 1*u.s\n",
    "mc2_norm = (n_mc2_events / N).si.value / (u.TeV * u.m**2 * u.s)\n",
    "\n",
    "# Now lets run our simulation\n",
    "mc2_events = sample(mc2_e_min, mc2_e_max, mc2_index, n_mc2_events)"
   ]
  },
  {
   "cell_type": "code",
   "execution_count": 156,
   "metadata": {},
   "outputs": [
    {
     "data": {
      "image/png": "[encoded data removed]",
      "text/plain": [
       "<Figure size 432x288 with 1 Axes>"
      ]
     },
     "metadata": {
      "needs_background": "light"
     },
     "output_type": "display_data"
    }
   ],
   "source": [
    "plt.errorbar(\n",
    "    crab_bin_center.value, crab_rate, xerr=crab_bin_width.value * 0.5,\n",
    "    linestyle='', marker='.', label='expected events from crab in 1 sec', color='black',\n",
    ")\n",
    "plt.hist(mc1_events.value, crab_energy_bins, histtype='step', color='black')\n",
    "plt.hist(mc2_events.value, crab_energy_bins, histtype='step', color='red')\n",
    "plt.xlabel(\"Energy (TeV)\")\n",
    "plt.ylabel(\"N Events\")\n",
    "plt.xscale('log')\n",
    "plt.yscale('log')"
   ]
  },
  {
   "cell_type": "code",
   "execution_count": 157,
   "metadata": {},
   "outputs": [],
   "source": [
    "@u.quantity_input\n",
    "def calculate_weights(energies: u.TeV, index, mc_index):\n",
    "    return energies.to_value(u.TeV) ** (index - mc_index)\n",
    "\n",
    "@u.quantity_input\n",
    "def calculate_t_norm(e_min: u.TeV, e_max: u.TeV, area: u.m**2, mc_index, norm, n_simulated):\n",
    "    a = e_min.to_value('TeV')\n",
    "    b = e_max.to_value('TeV')\n",
    "    norm_ = norm.to(1 / (u.TeV * u.s * u.m**2)) * u.TeV\n",
    "    integral = norm_ * (b**(mc_index + 1) - a**(mc_index + 1)) / (mc_index + 1)\n",
    "    t_norm = (n_simulated / (integral * area)).to_value(u.s)\n",
    "    return t_norm"
   ]
  },
  {
   "cell_type": "code",
   "execution_count": 158,
   "metadata": {},
   "outputs": [
    {
     "data": {
      "image/png": "[encoded data removed]",
      "text/plain": [
       "<Figure size 432x288 with 1 Axes>"
      ]
     },
     "metadata": {
      "needs_background": "light"
     },
     "output_type": "display_data"
    }
   ],
   "source": [
    "# Check just the shape\n",
    "\n",
    "mc1_weights = calculate_weights(mc1_events, crab_index, mc1_index)\n",
    "mc2_weights = calculate_weights(mc2_events, crab_index, mc2_index)\n",
    "\n",
    "plt.errorbar(\n",
    "    crab_bin_center.value, crab_rate, xerr=crab_bin_width.value * 0.5,\n",
    "    linestyle='', marker='.', label='expected events from crab in 1 sec', color='black',\n",
    ")\n",
    "plt.hist(mc1_events.value, crab_energy_bins, weights=mc1_weights, histtype='step', color='black')\n",
    "plt.hist(mc2_events.value, crab_energy_bins, weights=mc2_weights, histtype='step', color='red')\n",
    "plt.xlabel(\"Energy (TeV)\")\n",
    "plt.ylabel(\"N Events\")\n",
    "plt.xscale('log')\n",
    "plt.yscale('log')"
   ]
  },
  {
   "cell_type": "code",
   "execution_count": 159,
   "metadata": {},
   "outputs": [
    {
     "data": {
      "image/png": "[encoded data removed]",
      "text/plain": [
       "<Figure size 432x288 with 1 Axes>"
      ]
     },
     "metadata": {
      "needs_background": "light"
     },
     "output_type": "display_data"
    }
   ],
   "source": [
    "# Also check normalisation\n",
    "\n",
    "mc1_t_norm = calculate_t_norm(mc1_e_min, mc1_e_max, area, mc1_index, crab_norm, n_mc1_events)\n",
    "mc2_t_norm = calculate_t_norm(mc2_e_min, mc2_e_max, area, mc2_index, crab_norm, n_mc2_events)\n",
    "\n",
    "plt.errorbar(\n",
    "    crab_bin_center.value, crab_rate, xerr=crab_bin_width.value * 0.5,\n",
    "    linestyle='', marker='.', label='crab rate', color='black',\n",
    ")\n",
    "plt.hist(mc1_events.value, crab_energy_bins, weights=mc1_weights/mc1_t_norm, histtype='step', color='black')\n",
    "plt.hist(mc2_events.value, crab_energy_bins, weights=mc2_weights/mc2_t_norm, histtype='step', color='red')\n",
    "plt.xlabel(\"Energy (TeV)\")\n",
    "plt.ylabel(\"Events/sec\")\n",
    "plt.xscale('log')\n",
    "plt.yscale('log')"
   ]
  },
  {
   "cell_type": "code",
   "execution_count": 160,
   "metadata": {},
   "outputs": [
    {
     "data": {
      "image/png": "[encoded data removed]",
      "text/plain": [
       "<Figure size 432x288 with 1 Axes>"
      ]
     },
     "metadata": {
      "needs_background": "light"
     },
     "output_type": "display_data"
    }
   ],
   "source": [
    "# Problem: Combined population\n",
    "\n",
    "mcc_events = np.concatenate([mc1_events, mc2_events])\n",
    "mcc_weights = np.concatenate([mc1_weights/mc1_t_norm, mc2_weights/mc2_t_norm])\n",
    "\n",
    "plt.errorbar(\n",
    "    crab_bin_center.value, crab_rate, xerr=crab_bin_width.value * 0.5,\n",
    "    linestyle='', marker='.', label='crab rate', color='black',\n",
    ")\n",
    "plt.hist(mcc_events.value, crab_energy_bins, weights=mcc_weights, histtype='step', color='black')\n",
    "plt.xlabel(\"Energy (TeV)\")\n",
    "plt.ylabel(\"Events/sec\")\n",
    "plt.xscale('log')\n",
    "plt.yscale('log')\n",
    "\n",
    "#!!!!! Results in extra values in overlap!"
   ]
  },
  {
   "cell_type": "code",
   "execution_count": 161,
   "metadata": {},
   "outputs": [
    {
     "data": {
      "image/png": "[encoded data removed]",
      "text/plain": [
       "<Figure size 432x288 with 1 Axes>"
      ]
     },
     "metadata": {
      "needs_background": "light"
     },
     "output_type": "display_data"
    }
   ],
   "source": [
    "mcc_events = np.concatenate([mc1_events, mc2_events])\n",
    "mcc_weights = np.concatenate([mc1_weights, mc2_weights])\n",
    "\n",
    "plt.errorbar(\n",
    "    crab_bin_center.value, crab_rate, xerr=crab_bin_width.value * 0.5,\n",
    "    linestyle='', marker='.', label='crab rate', color='black',\n",
    ")\n",
    "plt.hist(mcc_events.value, crab_energy_bins, weights=mcc_weights, histtype='step', color='black')\n",
    "plt.xlabel(\"Energy (TeV)\")\n",
    "plt.ylabel(\"Events/sec\")\n",
    "plt.xscale('log')\n",
    "plt.yscale('log')"
   ]
  },
  {
   "cell_type": "code",
   "execution_count": 162,
   "metadata": {},
   "outputs": [
    {
     "data": {
      "image/png": "[encoded data removed]",
      "text/plain": [
       "<Figure size 432x288 with 1 Axes>"
      ]
     },
     "metadata": {
      "needs_background": "light"
     },
     "output_type": "display_data"
    }
   ],
   "source": [
    "mcc_events = np.concatenate([mc1_events, mc2_events])\n",
    "mcc_weights = np.concatenate([mc1_weights, mc2_weights])\n",
    "mcc_weights_wtn = np.concatenate([mc1_weights/mc1_t_norm, mc2_weights/mc2_t_norm])\n",
    "overlap_events = (mcc_events >= mc2_e_min.value) & (mcc_events < mc1_e_max.value)\n",
    "mcc_weights_wtn[overlap_events] = mcc_weights[overlap_events] / (mc1_t_norm + mc2_t_norm)\n",
    "\n",
    "plt.errorbar(\n",
    "    crab_bin_center.value, crab_rate, xerr=crab_bin_width.value * 0.5,\n",
    "    linestyle='', marker='.', label='crab rate', color='black',\n",
    ")\n",
    "plt.hist(mcc_events.value, crab_energy_bins, weights=mcc_weights_wtn, histtype='step', color='black')\n",
    "plt.xlabel(\"Energy (TeV)\")\n",
    "plt.ylabel(\"Events/sec\")\n",
    "plt.xscale('log')\n",
    "plt.yscale('log')\n",
    "\n",
    "# So the solution is that the overlapping bins need to be normalized by the comined time...makes sense"
   ]
  },
  {
   "cell_type": "code",
   "execution_count": 163,
   "metadata": {},
   "outputs": [
    {
     "name": "stdout",
     "output_type": "stream",
     "text": [
      "1060.3887880144964 293271.8200094085 294332.208797423\n"
     ]
    },
    {
     "data": {
      "image/png": "[encoded data removed]",
      "text/plain": [
       "<Figure size 432x288 with 1 Axes>"
      ]
     },
     "metadata": {
      "needs_background": "light"
     },
     "output_type": "display_data"
    }
   ],
   "source": [
    "# Need to find a generic way to calculate this...\n",
    "# A bin specific weighting\n",
    "\n",
    "mcc_events = np.concatenate([mc1_events, mc2_events])\n",
    "mcc_weights = np.concatenate([mc1_weights, mc2_weights])\n",
    "\n",
    "t_norm_arr = np.zeros(mcc_events.size)\n",
    "t_norm_arr[(mcc_events >= mc1_e_min.value) & (mcc_events < mc1_e_max.value)] += mc1_t_norm\n",
    "t_norm_arr[(mcc_events >= mc2_e_min.value) & (mcc_events < mc2_e_max.value)] += mc2_t_norm\n",
    "\n",
    "plt.errorbar(\n",
    "    crab_bin_center.value, crab_rate, xerr=crab_bin_width.value * 0.5,\n",
    "    linestyle='', marker='.', label='crab rate', color='black',\n",
    ")\n",
    "plt.hist(mcc_events.value, crab_energy_bins, weights=mcc_weights/t_norm_arr, histtype='step', color='black')\n",
    "plt.xlabel(\"Energy (TeV)\")\n",
    "plt.ylabel(\"Events/sec\")\n",
    "plt.xscale('log')\n",
    "plt.yscale('log')\n",
    "\n",
    "\n",
    "print(mc1_t_norm, mc2_t_norm, mc1_t_norm+mc2_t_norm)\n",
    "\n",
    "# GOT IT"
   ]
  },
  {
   "cell_type": "markdown",
   "metadata": {},
   "source": [
    "### Lets apply this to N sims"
   ]
  },
  {
   "cell_type": "code",
   "execution_count": 169,
   "metadata": {},
   "outputs": [],
   "source": [
    "import pandas as pd\n",
    "\n",
    "n_sim = 6\n",
    "e_min = np.exp(np.random.uniform(np.log(0.001), np.log(100), n_sim)) * u.TeV\n",
    "e_max = np.exp(np.random.uniform(np.log(e_min.value), np.log(300), n_sim)) * u.TeV\n",
    "mc_index = np.random.uniform(-3, -1, n_sim)\n",
    "n_simulated = np.random.uniform(100000, 1000000, n_sim).astype(np.int)\n",
    "\n",
    "N = integrate(e_min, e_max, 1/(u.TeV * u.s * u.m**2), mc_index) * area * 1*u.s\n",
    "mc_norm = (n_simulated / N).si.value / (u.TeV * u.m**2 * u.s)\n",
    "\n",
    "# Now lets run our simulation\n",
    "d_list = []\n",
    "mc_events = []\n",
    "for isim in range(n_sim):\n",
    "    events = sample(e_min[isim], e_max[isim], mc_index[isim], n_simulated[isim])\n",
    "    d_list.append(dict(\n",
    "        isim=isim,\n",
    "        e_min=e_min[isim].value,\n",
    "        e_max=e_max[isim].value,\n",
    "        index=mc_index[isim],\n",
    "        n_simulated=n_simulated[isim],\n",
    "        events=events.value,\n",
    "        weights=calculate_weights(events, crab_index, mc_index[isim]),\n",
    "    ))\n",
    "df = pd.DataFrame(d_list)\n",
    "\n",
    "\n",
    "calculate_t_norm(mc1_e_min, mc1_e_max, area, mc1_index, crab_norm, n_mc1_events)\n",
    "df['t_norm'] = calculate_t_norm(df['e_min'].values*u.TeV, df['e_max'].values*u.TeV, area, df['index'].values, crab_norm, df['n_simulated'].values)\n"
   ]
  },
  {
   "cell_type": "code",
   "execution_count": 170,
   "metadata": {},
   "outputs": [
    {
     "data": {
      "text/html": [
       "<div>\n",
       "<style scoped>\n",
       "    .dataframe tbody tr th:only-of-type {\n",
       "        vertical-align: middle;\n",
       "    }\n",
       "\n",
       "    .dataframe tbody tr th {\n",
       "        vertical-align: top;\n",
       "    }\n",
       "\n",
       "    .dataframe thead th {\n",
       "        text-align: right;\n",
       "    }\n",
       "</style>\n",
       "<table border=\"1\" class=\"dataframe\">\n",
       "  <thead>\n",
       "    <tr style=\"text-align: right;\">\n",
       "      <th></th>\n",
       "      <th>isim</th>\n",
       "      <th>e_min</th>\n",
       "      <th>e_max</th>\n",
       "      <th>index</th>\n",
       "      <th>n_simulated</th>\n",
       "      <th>events</th>\n",
       "      <th>weights</th>\n",
       "      <th>t_norm</th>\n",
       "    </tr>\n",
       "  </thead>\n",
       "  <tbody>\n",
       "    <tr>\n",
       "      <td>0</td>\n",
       "      <td>0</td>\n",
       "      <td>0.317217</td>\n",
       "      <td>1.443215</td>\n",
       "      <td>-2.089247</td>\n",
       "      <td>580103</td>\n",
       "      <td>[0.7126531575279814, 0.46611241400400716, 0.75...</td>\n",
       "      <td>[1.1969757902632412, 1.4995109974187704, 1.164...</td>\n",
       "      <td>7.912032e+05</td>\n",
       "    </tr>\n",
       "    <tr>\n",
       "      <td>1</td>\n",
       "      <td>1</td>\n",
       "      <td>2.243292</td>\n",
       "      <td>50.455178</td>\n",
       "      <td>-2.348221</td>\n",
       "      <td>792688</td>\n",
       "      <td>[2.414415239299131, 7.093102980143129, 4.95434...</td>\n",
       "      <td>[0.7869725357419637, 0.5871650413561287, 0.647...</td>\n",
       "      <td>1.139537e+07</td>\n",
       "    </tr>\n",
       "    <tr>\n",
       "      <td>2</td>\n",
       "      <td>2</td>\n",
       "      <td>0.008293</td>\n",
       "      <td>5.878664</td>\n",
       "      <td>-1.501184</td>\n",
       "      <td>496552</td>\n",
       "      <td>[0.027917734750704703, 0.0159127564447713, 0.0...</td>\n",
       "      <td>[54.7992855008672, 102.78195970715693, 129.473...</td>\n",
       "      <td>8.271283e+04</td>\n",
       "    </tr>\n",
       "    <tr>\n",
       "      <td>3</td>\n",
       "      <td>3</td>\n",
       "      <td>0.011308</td>\n",
       "      <td>0.125029</td>\n",
       "      <td>-2.809025</td>\n",
       "      <td>236558</td>\n",
       "      <td>[0.012403433464340597, 0.012625376331236454, 0...</td>\n",
       "      <td>[0.43614672131801163, 0.4376113292528699, 0.44...</td>\n",
       "      <td>4.611126e+02</td>\n",
       "    </tr>\n",
       "    <tr>\n",
       "      <td>4</td>\n",
       "      <td>4</td>\n",
       "      <td>4.321380</td>\n",
       "      <td>22.695748</td>\n",
       "      <td>-1.572443</td>\n",
       "      <td>907408</td>\n",
       "      <td>[8.924083228404308, 9.124939396320764, 14.5878...</td>\n",
       "      <td>[0.10097891863678278, 0.09865171459510542, 0.0...</td>\n",
       "      <td>6.920087e+06</td>\n",
       "    </tr>\n",
       "    <tr>\n",
       "      <td>5</td>\n",
       "      <td>5</td>\n",
       "      <td>0.105142</td>\n",
       "      <td>0.933954</td>\n",
       "      <td>-1.590516</td>\n",
       "      <td>862504</td>\n",
       "      <td>[0.41826793866107265, 0.1765825323760496, 0.77...</td>\n",
       "      <td>[2.453049687958151, 5.960120347229084, 1.29813...</td>\n",
       "      <td>6.567729e+05</td>\n",
       "    </tr>\n",
       "  </tbody>\n",
       "</table>\n",
       "</div>"
      ],
      "text/plain": [
       "   isim     e_min      e_max     index  n_simulated  \\\n",
       "0     0  0.317217   1.443215 -2.089247       580103   \n",
       "1     1  2.243292  50.455178 -2.348221       792688   \n",
       "2     2  0.008293   5.878664 -1.501184       496552   \n",
       "3     3  0.011308   0.125029 -2.809025       236558   \n",
       "4     4  4.321380  22.695748 -1.572443       907408   \n",
       "5     5  0.105142   0.933954 -1.590516       862504   \n",
       "\n",
       "                                              events  \\\n",
       "0  [0.7126531575279814, 0.46611241400400716, 0.75...   \n",
       "1  [2.414415239299131, 7.093102980143129, 4.95434...   \n",
       "2  [0.027917734750704703, 0.0159127564447713, 0.0...   \n",
       "3  [0.012403433464340597, 0.012625376331236454, 0...   \n",
       "4  [8.924083228404308, 9.124939396320764, 14.5878...   \n",
       "5  [0.41826793866107265, 0.1765825323760496, 0.77...   \n",
       "\n",
       "                                             weights        t_norm  \n",
       "0  [1.1969757902632412, 1.4995109974187704, 1.164...  7.912032e+05  \n",
       "1  [0.7869725357419637, 0.5871650413561287, 0.647...  1.139537e+07  \n",
       "2  [54.7992855008672, 102.78195970715693, 129.473...  8.271283e+04  \n",
       "3  [0.43614672131801163, 0.4376113292528699, 0.44...  4.611126e+02  \n",
       "4  [0.10097891863678278, 0.09865171459510542, 0.0...  6.920087e+06  \n",
       "5  [2.453049687958151, 5.960120347229084, 1.29813...  6.567729e+05  "
      ]
     },
     "execution_count": 170,
     "metadata": {},
     "output_type": "execute_result"
    }
   ],
   "source": [
    "df"
   ]
  },
  {
   "cell_type": "code",
   "execution_count": 171,
   "metadata": {},
   "outputs": [
    {
     "data": {
      "image/png": "[encoded data removed]",
      "text/plain": [
       "<Figure size 432x288 with 1 Axes>"
      ]
     },
     "metadata": {
      "needs_background": "light"
     },
     "output_type": "display_data"
    }
   ],
   "source": [
    "# Without norm\n",
    "\n",
    "plt.errorbar(\n",
    "    crab_bin_center.value, crab_rate, xerr=crab_bin_width.value * 0.5,\n",
    "    linestyle='', marker='.', label='expected events from crab in 1 sec', color='black',\n",
    ")\n",
    "\n",
    "for _, row in df.iterrows():\n",
    "    plt.hist(row['events'], crab_energy_bins, histtype='step')\n",
    "    \n",
    "plt.xlabel(\"Energy (TeV)\")\n",
    "plt.ylabel(\"N Events\")\n",
    "plt.xscale('log')\n",
    "plt.yscale('log')"
   ]
  },
  {
   "cell_type": "code",
   "execution_count": 172,
   "metadata": {},
   "outputs": [
    {
     "data": {
      "image/png": "[encoded data removed]",
      "text/plain": [
       "<Figure size 432x288 with 1 Axes>"
      ]
     },
     "metadata": {
      "needs_background": "light"
     },
     "output_type": "display_data"
    }
   ],
   "source": [
    "# With just index corrected\n",
    "\n",
    "plt.errorbar(\n",
    "    crab_bin_center.value, crab_rate, xerr=crab_bin_width.value * 0.5,\n",
    "    linestyle='', marker='.', label='expected events from crab in 1 sec', color='black',\n",
    ")\n",
    "\n",
    "for _, row in df.iterrows():\n",
    "    plt.hist(row['events'], crab_energy_bins, weights=row['weights'], histtype='step')\n",
    "    \n",
    "plt.xlabel(\"Energy (TeV)\")\n",
    "plt.ylabel(\"N Events\")\n",
    "plt.xscale('log')\n",
    "plt.yscale('log')"
   ]
  },
  {
   "cell_type": "code",
   "execution_count": 175,
   "metadata": {},
   "outputs": [
    {
     "data": {
      "image/png": "[encoded data removed]",
      "text/plain": [
       "<Figure size 432x288 with 1 Axes>"
      ]
     },
     "metadata": {
      "needs_background": "light"
     },
     "output_type": "display_data"
    }
   ],
   "source": [
    "# Corrected\n",
    "\n",
    "plt.errorbar(\n",
    "    crab_bin_center.value, crab_rate, xerr=crab_bin_width.value * 0.5,\n",
    "    linestyle='', marker='.', label='expected events from crab in 1 sec', color='black',\n",
    ")\n",
    "\n",
    "for _, row in df.iterrows():\n",
    "    energies = row['events']\n",
    "    plt.hist(row['events'], crab_energy_bins, weights=row['weights']/row['t_norm'], histtype='step')\n",
    "    \n",
    "plt.xlabel(\"Energy (TeV)\")\n",
    "plt.ylabel(\"N Events\")\n",
    "plt.xscale('log')\n",
    "plt.yscale('log')"
   ]
  },
  {
   "cell_type": "code",
   "execution_count": 176,
   "metadata": {},
   "outputs": [
    {
     "data": {
      "image/png": "[encoded data removed]",
      "text/plain": [
       "<Figure size 432x288 with 1 Axes>"
      ]
     },
     "metadata": {
      "needs_background": "light"
     },
     "output_type": "display_data"
    }
   ],
   "source": [
    "# Combined\n",
    "\n",
    "plt.errorbar(\n",
    "    crab_bin_center.value, crab_rate, xerr=crab_bin_width.value * 0.5,\n",
    "    linestyle='', marker='.', label='expected events from crab in 1 sec', color='black',\n",
    ")\n",
    "\n",
    "energies_list = []\n",
    "weights_list = []\n",
    "\n",
    "for _, row in df.iterrows():\n",
    "    energies = row['events']\n",
    "    t_norm_total = np.zeros(energies.size)\n",
    "    for ic, row_c in df.iterrows():\n",
    "        between = (energies >= row_c['e_min']) & (energies < row_c['e_max'])\n",
    "        t_norm_total[between] += row_c['t_norm']\n",
    "    energies_list.append(energies)\n",
    "    weights_list.append(row['weights']/t_norm_total)\n",
    "\n",
    "energies = np.concatenate(energies_list)\n",
    "weights = np.concatenate(weights_list)\n",
    "    \n",
    "plt.hist(energies, crab_energy_bins, weights=weights, histtype='step')\n",
    "    \n",
    "plt.xlabel(\"Energy (TeV)\")\n",
    "plt.ylabel(\"N Events\")\n",
    "plt.xscale('log')\n",
    "plt.yscale('log')"
   ]
  },
  {
   "cell_type": "code",
   "execution_count": null,
   "metadata": {},
   "outputs": [],
   "source": []
  }
 ],
 "metadata": {
  "kernelspec": {
   "display_name": "Python [conda env:cta] *",
   "language": "python",
   "name": "conda-env-cta-py"
  },
  "language_info": {
   "codemirror_mode": {
    "name": "ipython",
    "version": 3
   },
   "file_extension": ".py",
   "mimetype": "text/x-python",
   "name": "python",
   "nbconvert_exporter": "python",
   "pygments_lexer": "ipython3",
   "version": "3.7.4"
  }
 },
 "nbformat": 4,
 "nbformat_minor": 2
}
