{
 "cells": [
  {
   "cell_type": "markdown",
   "metadata": {},
   "source": [
    "# SES Convolution\n",
    "\n",
    "This notebook explores how the SES can be used to build the charge distributions at higher charges. This can be approached in two ways: a Monte Carlo approach where the SES is sampled, or through the construction of the PDF by convolving the SES with itself.\n",
    "\n",
    "Firstly, we define the SES for a simple PMT and SiPM:"
   ]
  },
  {
   "cell_type": "code",
   "execution_count": 166,
   "metadata": {},
   "outputs": [],
   "source": [
    "import numpy as np\n",
    "from numba import njit, prange, vectorize, int64, float64\n",
    "from math import lgamma, exp, pow, sqrt, log, pi\n",
    "from functools import partial\n",
    "from scipy.stats import poisson\n",
    "from scipy.signal import convolve\n",
    "from matplotlib import pyplot as plt\n",
    "from tqdm import trange\n",
    "%matplotlib inline"
   ]
  },
  {
   "cell_type": "code",
   "execution_count": 3,
   "metadata": {},
   "outputs": [],
   "source": [
    "SQRT2PI = sqrt(2.0 * pi) \n",
    "\n",
    "@vectorize([float64(float64, float64, float64)], fastmath=True)\n",
    "def normal_pdf(x, mean=0, std_deviation=1):\n",
    "    u = (x - mean) / std_deviation\n",
    "    return exp(-0.5 * u ** 2) / (SQRT2PI * std_deviation)"
   ]
  },
  {
   "cell_type": "code",
   "execution_count": 4,
   "metadata": {},
   "outputs": [],
   "source": [
    "# PMT SES Definition\n",
    "@njit(fastmath=True, parallel=True)\n",
    "def pmt_ses(x, spe, spe_sigma):\n",
    "    pe_sigma = sqrt(spe_sigma ** 2)\n",
    "    pe_signal = normal_pdf(x, spe, pe_sigma)\n",
    "    return pe_signal"
   ]
  },
  {
   "cell_type": "code",
   "execution_count": 5,
   "metadata": {},
   "outputs": [],
   "source": [
    "# SiPM SES Definition\n",
    "@vectorize([float64(float64, float64, float64, float64)], fastmath=True)\n",
    "def sipm_ses(x, spe, spe_sigma, opct):\n",
    "    pe_signal = 0\n",
    "    # Loop over the possible total number of cells fired\n",
    "    for k in range(1, 250):\n",
    "        pk = (1-opct) * pow(opct, k-1)\n",
    "\n",
    "        # Combine spread of pedestal and pe (and afterpulse) peaks\n",
    "        pe_sigma = np.sqrt(k * spe_sigma ** 2)\n",
    "\n",
    "        # Evaluate probability at each value of x\n",
    "        pe_signal += pk * normal_pdf(x, k * spe, pe_sigma)\n",
    "\n",
    "    return pe_signal"
   ]
  },
  {
   "cell_type": "code",
   "execution_count": 263,
   "metadata": {},
   "outputs": [
    {
     "data": {
      "text/plain": [
       "[<matplotlib.lines.Line2D at 0x134f7ec88>]"
      ]
     },
     "execution_count": 263,
     "metadata": {},
     "output_type": "execute_result"
    },
    {
     "data": {
      "image/png": "[encoded data removed]",
      "text/plain": [
       "<Figure size 432x288 with 1 Axes>"
      ]
     },
     "metadata": {
      "needs_background": "light"
     },
     "output_type": "display_data"
    }
   ],
   "source": [
    "# Define input parameters\n",
    "spe=1\n",
    "spe_sigma=0.1\n",
    "opct=0.2\n",
    "\n",
    "# Obtain pdfs\n",
    "x_pmt = np.linspace(0, 2, 1000)\n",
    "pdf_pmt = pmt_ses(x_pmt, spe, spe_sigma)\n",
    "\n",
    "x_sipm = np.linspace(0, 10, 10000)\n",
    "pdf_sipm = sipm_ses(x_sipm, spe, spe_sigma, opct)\n",
    "\n",
    "pdf_pmt /= pdf_pmt.sum()\n",
    "pdf_sipm /= pdf_sipm.sum()\n",
    "\n",
    "plt.semilogy(x_pmt, pdf_pmt)\n",
    "plt.semilogy(x_sipm, pdf_sipm)"
   ]
  },
  {
   "cell_type": "code",
   "execution_count": 348,
   "metadata": {},
   "outputs": [],
   "source": [
    "n_pe = 3\n",
    "n_events = 100000"
   ]
  },
  {
   "cell_type": "markdown",
   "metadata": {},
   "source": [
    "## Monte Carlo Approach\n",
    "\n",
    "This approach samples from the SES, and sums together the n_pe samples to generate a representative charge."
   ]
  },
  {
   "cell_type": "code",
   "execution_count": 349,
   "metadata": {},
   "outputs": [
    {
     "name": "stdout",
     "output_type": "stream",
     "text": [
      "Average: 3.00, Variance: 0.03, STD: 0.17\n"
     ]
    },
    {
     "data": {
      "image/png": "[encoded data removed]",
      "text/plain": [
       "<Figure size 432x288 with 1 Axes>"
      ]
     },
     "metadata": {
      "needs_background": "light"
     },
     "output_type": "display_data"
    }
   ],
   "source": [
    "single_pe_charge = np.random.choice(x_pmt, (n_events, n_pe), p=pdf_pmt)\n",
    "charge = single_pe_charge.sum(1)\n",
    "print(f\"Average: {np.mean(charge):.2f}, Variance: {np.var(charge):.2f}, STD: {np.std(charge):.2f}\")\n",
    "_ = plt.hist(charge, bins=1000)"
   ]
  },
  {
   "cell_type": "code",
   "execution_count": 350,
   "metadata": {},
   "outputs": [
    {
     "name": "stdout",
     "output_type": "stream",
     "text": [
      "Average: 3.75, Variance: 0.98, STD: 0.99\n"
     ]
    },
    {
     "data": {
      "image/png": "[encoded data removed]",
      "text/plain": [
       "<Figure size 432x288 with 1 Axes>"
      ]
     },
     "metadata": {
      "needs_background": "light"
     },
     "output_type": "display_data"
    }
   ],
   "source": [
    "single_pe_charge = np.random.choice(x_sipm, (n_events, n_pe), p=pdf_sipm)\n",
    "charge = single_pe_charge.sum(1)\n",
    "print(f\"Average: {np.mean(charge):.2f}, Variance: {np.var(charge):.2f}, STD: {np.std(charge):.2f}\")\n",
    "_ = plt.hist(charge, bins=1000)"
   ]
  },
  {
   "cell_type": "markdown",
   "metadata": {},
   "source": [
    "## Statistical Approach\n",
    "\n",
    "This approach convolves the SES with itself n_pe times to produce the PDF for when N photoelectrons are generated."
   ]
  },
  {
   "cell_type": "code",
   "execution_count": 351,
   "metadata": {},
   "outputs": [],
   "source": [
    "def pdf_convolve(n_pe, x, pdf):\n",
    "    n_pe_pdf = pdf\n",
    "    for i_pe in range(n_pe-1):\n",
    "        n_pe_pdf = convolve(n_pe_pdf, pdf, mode='full')\n",
    "    n_pe_x = np.linspace(0, n_pe*x.max(), n_pe_pdf.size)\n",
    "    return n_pe_x, n_pe_pdf"
   ]
  },
  {
   "cell_type": "code",
   "execution_count": 352,
   "metadata": {},
   "outputs": [],
   "source": [
    "def print_stats(x, y):\n",
    "    avg = np.average(x, weights=y)\n",
    "    var = np.average((x-avg)**2, weights=y)\n",
    "    print(f\"Average: {avg:.2f}, Variance: {var:.2f}, STD: {np.sqrt(var):.2f}\")"
   ]
  },
  {
   "cell_type": "code",
   "execution_count": 353,
   "metadata": {},
   "outputs": [
    {
     "name": "stdout",
     "output_type": "stream",
     "text": [
      "Average: 3.00, Variance: 0.03, STD: 0.17\n"
     ]
    },
    {
     "data": {
      "text/plain": [
       "[<matplotlib.lines.Line2D at 0x1398cd240>]"
      ]
     },
     "execution_count": 353,
     "metadata": {},
     "output_type": "execute_result"
    },
    {
     "data": {
      "image/png": "[encoded data removed]",
      "text/plain": [
       "<Figure size 432x288 with 1 Axes>"
      ]
     },
     "metadata": {
      "needs_background": "light"
     },
     "output_type": "display_data"
    }
   ],
   "source": [
    "xn, pdfn = pdf_convolve(n_pe, x_pmt, pdf_pmt)\n",
    "print_stats(xn, pdfn)\n",
    "plt.plot(xn, pdfn)"
   ]
  },
  {
   "cell_type": "code",
   "execution_count": 354,
   "metadata": {},
   "outputs": [
    {
     "name": "stdout",
     "output_type": "stream",
     "text": [
      "Average: 3.75, Variance: 0.97, STD: 0.99\n"
     ]
    },
    {
     "data": {
      "text/plain": [
       "[<matplotlib.lines.Line2D at 0x13c37be48>]"
      ]
     },
     "execution_count": 354,
     "metadata": {},
     "output_type": "execute_result"
    },
    {
     "data": {
      "image/png": "[encoded data removed]",
      "text/plain": [
       "<Figure size 432x288 with 1 Axes>"
      ]
     },
     "metadata": {
      "needs_background": "light"
     },
     "output_type": "display_data"
    }
   ],
   "source": [
    "xn, pdfn = pdf_convolve(n_pe, x_sipm, pdf_sipm)\n",
    "print_stats(xn, pdfn)\n",
    "plt.plot(xn, pdfn)"
   ]
  },
  {
   "cell_type": "markdown",
   "metadata": {},
   "source": [
    "# Poisson\n",
    "\n",
    "Its important to note that the above investigations were considering the case where N photoelectrons were produced for certain. In reality, we only know the average illumination level, and the charge spectrum is built from the poisson fluctuations about that average. The SES distirbution is not independant from the poisson distribution, therefore we cannot convolve the two. The simplest approach is to use Monte Carlo:"
   ]
  },
  {
   "cell_type": "code",
   "execution_count": 355,
   "metadata": {},
   "outputs": [
    {
     "data": {
      "text/plain": [
       "[<matplotlib.lines.Line2D at 0x139ad06d8>]"
      ]
     },
     "execution_count": 355,
     "metadata": {},
     "output_type": "execute_result"
    },
    {
     "data": {
      "image/png": "[encoded data removed]",
      "text/plain": [
       "<Figure size 432x288 with 1 Axes>"
      ]
     },
     "metadata": {
      "needs_background": "light"
     },
     "output_type": "display_data"
    }
   ],
   "source": [
    "k = np.arange(1, 250)\n",
    "poisson_pmf = poisson.pmf(k, n_pe)\n",
    "plt.plot(k, poisson_pmf)"
   ]
  },
  {
   "cell_type": "code",
   "execution_count": 356,
   "metadata": {},
   "outputs": [],
   "source": [
    "@njit(parallel=True)\n",
    "def sample_ses(ses_x, ses_pdf, pe_array):\n",
    "    n_events = pe_array.size\n",
    "    charge = np.zeros(n_events)\n",
    "    for iev in prange(n_events):\n",
    "        for _ in prange(pe_array[iev]):\n",
    "            # Equivalent to np.random.choice(ses_x, p=ses_pdf)\n",
    "            charge[iev] += ses_x[np.searchsorted(np.cumsum(ses_pdf), np.random.random(), side=\"right\")]\n",
    "    return charge"
   ]
  },
  {
   "cell_type": "code",
   "execution_count": 357,
   "metadata": {},
   "outputs": [
    {
     "name": "stdout",
     "output_type": "stream",
     "text": [
      "Average: 2.99, Variance: 3.01, STD: 1.74\n"
     ]
    },
    {
     "data": {
      "image/png": "[encoded data removed]",
      "text/plain": [
       "<Figure size 432x288 with 1 Axes>"
      ]
     },
     "metadata": {
      "needs_background": "light"
     },
     "output_type": "display_data"
    }
   ],
   "source": [
    "pe_array = poisson.rvs(n_pe, size=n_events)\n",
    "charge = sample_ses(x_pmt, pdf_pmt, pe_array)\n",
    "#charge = charge[charge != 0]\n",
    "print(f\"Average: {np.mean(charge):.2f}, Variance: {np.var(charge):.2f}, STD: {np.std(charge):.2f}\")\n",
    "_ = plt.hist(charge, bins=100)"
   ]
  },
  {
   "cell_type": "code",
   "execution_count": 358,
   "metadata": {},
   "outputs": [
    {
     "name": "stdout",
     "output_type": "stream",
     "text": [
      "Average: 3.74, Variance: 5.63, STD: 2.37\n"
     ]
    },
    {
     "data": {
      "image/png": "[encoded data removed]",
      "text/plain": [
       "<Figure size 432x288 with 1 Axes>"
      ]
     },
     "metadata": {
      "needs_background": "light"
     },
     "output_type": "display_data"
    }
   ],
   "source": [
    "pe_array = poisson.rvs(n_pe, size=n_events)\n",
    "charge = sample_ses(x_sipm, pdf_sipm, pe_array)\n",
    "print(f\"Average: {np.mean(charge):.2f}, Variance: {np.var(charge):.2f}, STD: {np.std(charge):.2f}\")\n",
    "_ = plt.hist(charge, bins=100)"
   ]
  },
  {
   "cell_type": "markdown",
   "metadata": {},
   "source": [
    "## PDF with Poisson\n",
    "\n",
    "Due to the inability to obtain the PDF of these distributions with simple convolutions, lets try the analytical description of the SPE (without the electronic noise):"
   ]
  },
  {
   "cell_type": "code",
   "execution_count": 359,
   "metadata": {},
   "outputs": [],
   "source": [
    "@vectorize([float64(int64, float64)], fastmath=True)\n",
    "def poisson_pmf(k, mu):\n",
    "    return exp(k * log(mu) - mu - lgamma(k + 1))\n",
    "\n",
    "@vectorize([float64(int64, int64)], fastmath=True)\n",
    "def binom(n, k):\n",
    "    return exp(lgamma(n + 1) - lgamma(k + 1) - lgamma(n - k + 1))"
   ]
  },
  {
   "cell_type": "code",
   "execution_count": 360,
   "metadata": {},
   "outputs": [],
   "source": [
    "@njit(fastmath=True, parallel=True)\n",
    "def pmt_spe_nn(x, spe, spe_sigma, lambda_):    \n",
    "    # Obtain pedestal peak\n",
    "    p_ped = exp(-lambda_)\n",
    "    pe_signal = p_ped * normal_pdf(x, 0, 0.01)  # Approximate delta function\n",
    "\n",
    "    # Loop over the possible total number of cells fired\n",
    "    found = False\n",
    "    for k in prange(1, 250):\n",
    "        p = poisson_pmf(k, lambda_)  # Probability to get k avalanches\n",
    "\n",
    "        # Skip insignificant probabilities\n",
    "        if (not found) & (p < 1e-4):\n",
    "            continue\n",
    "        if found & (p < 1e-4):\n",
    "            break\n",
    "        found = True\n",
    "\n",
    "        # Combine spread of pedestal and pe peaks\n",
    "        pe_sigma = sqrt(k * spe_sigma ** 2)\n",
    "\n",
    "        # Evaluate probability at each value of x\n",
    "        pe_signal += p * normal_pdf(x, k * spe, pe_sigma)\n",
    "\n",
    "    return pe_signal"
   ]
  },
  {
   "cell_type": "code",
   "execution_count": 390,
   "metadata": {},
   "outputs": [],
   "source": [
    "@njit(fastmath=True, parallel=True)\n",
    "def sipm_spe_nn(x, spe, spe_sigma, lambda_, opct):\n",
    "    # Obtain pedestal peak\n",
    "    p_ped = exp(-lambda_)\n",
    "    pe_signal = p_ped * normal_pdf(x, 0, 0.001) # Approximate delta function\n",
    "\n",
    "    # Loop over the possible total number of cells fired\n",
    "    found = False\n",
    "    for k in prange(1, 250):\n",
    "        pk = 0\n",
    "        for j in prange(1, k+1):\n",
    "            pj = poisson_pmf(j, lambda_)  # Probability for j initial fired cells\n",
    "\n",
    "            # Skip insignificant probabilities\n",
    "            if pj < 1e-4:\n",
    "                continue\n",
    "\n",
    "            # Sum the probability from the possible combinations which result\n",
    "            # in a total of k fired cells to get the total probability of k\n",
    "            # fired cells\n",
    "            pk += pj * pow(1-opct, j) * pow(opct, k-j) * binom(k-1, j-1)\n",
    "            \n",
    "        # Skip insignificant probabilities\n",
    "        if (not found) & (pk < 1e-4):\n",
    "            continue\n",
    "        if found & (pk < 1e-4):\n",
    "            break\n",
    "        found = True\n",
    "        \n",
    "        pe_sigma = np.sqrt(k * spe_sigma ** 2)\n",
    "        pe_signal += pk * normal_pdf(x, k * spe, pe_sigma)\n",
    "\n",
    "    return pe_signal"
   ]
  },
  {
   "cell_type": "code",
   "execution_count": 391,
   "metadata": {},
   "outputs": [
    {
     "name": "stdout",
     "output_type": "stream",
     "text": [
      "Average: 3.00, Variance: 3.02, STD: 1.74\n"
     ]
    },
    {
     "data": {
      "text/plain": [
       "[<matplotlib.lines.Line2D at 0x139855a20>]"
      ]
     },
     "execution_count": 391,
     "metadata": {},
     "output_type": "execute_result"
    },
    {
     "data": {
      "image/png": "[encoded data removed]",
      "text/plain": [
       "<Figure size 432x288 with 1 Axes>"
      ]
     },
     "metadata": {
      "needs_background": "light"
     },
     "output_type": "display_data"
    }
   ],
   "source": [
    "x_pmt_spe_nn = np.linspace(-0.5, 20, 10000)\n",
    "pdf_pmt_spe_nn = pmt_spe_nn(x_pmt_spe_nn, spe, spe_sigma, n_pe)\n",
    "print_stats(x_pmt_spe_nn, pdf_pmt_spe_nn)\n",
    "plt.plot(x_pmt_spe_nn, pdf_pmt_spe_nn)"
   ]
  },
  {
   "cell_type": "code",
   "execution_count": 392,
   "metadata": {},
   "outputs": [
    {
     "name": "stdout",
     "output_type": "stream",
     "text": [
      "Average: 3.75, Variance: 5.64, STD: 2.38\n"
     ]
    },
    {
     "data": {
      "text/plain": [
       "[<matplotlib.lines.Line2D at 0x13b88eba8>]"
      ]
     },
     "execution_count": 392,
     "metadata": {},
     "output_type": "execute_result"
    },
    {
     "data": {
      "image/png": "[encoded data removed]",
      "text/plain": [
       "<Figure size 432x288 with 1 Axes>"
      ]
     },
     "metadata": {
      "needs_background": "light"
     },
     "output_type": "display_data"
    }
   ],
   "source": [
    "x_sipm_spe_nn = np.linspace(-0.5, 20, 10000)\n",
    "pdf_sipm_spe_nn = sipm_spe_nn(x_sipm_spe_nn, spe, spe_sigma, n_pe, opct)\n",
    "print_stats(x_sipm_spe_nn, pdf_sipm_spe_nn)\n",
    "plt.plot(x_sipm_spe_nn, pdf_sipm_spe_nn)"
   ]
  },
  {
   "cell_type": "markdown",
   "metadata": {},
   "source": [
    "# Electronic Noise\n",
    "\n",
    "As electronic noise component can also be explicitely included in the PDF formula."
   ]
  },
  {
   "cell_type": "code",
   "execution_count": 393,
   "metadata": {},
   "outputs": [
    {
     "data": {
      "text/plain": [
       "[<matplotlib.lines.Line2D at 0x14324aa58>]"
      ]
     },
     "execution_count": 393,
     "metadata": {},
     "output_type": "execute_result"
    },
    {
     "data": {
      "image/png": "[encoded data removed]",
      "text/plain": [
       "<Figure size 432x288 with 1 Axes>"
      ]
     },
     "metadata": {
      "needs_background": "light"
     },
     "output_type": "display_data"
    }
   ],
   "source": [
    "eped = 0\n",
    "eped_sigma=0.2\n",
    "\n",
    "x_eped = np.linspace(-5, 5, 1000)\n",
    "pdf_eped = normal_pdf(x_eped, eped, eped_sigma)\n",
    "pdf_eped /= pdf_eped.sum()\n",
    "\n",
    "plt.plot(x_eped, pdf_eped)"
   ]
  },
  {
   "cell_type": "markdown",
   "metadata": {},
   "source": [
    "## MC"
   ]
  },
  {
   "cell_type": "code",
   "execution_count": 394,
   "metadata": {},
   "outputs": [
    {
     "name": "stdout",
     "output_type": "stream",
     "text": [
      "Average: 2.99, Variance: 3.05, STD: 1.75\n"
     ]
    },
    {
     "data": {
      "image/png": "[encoded data removed]",
      "text/plain": [
       "<Figure size 432x288 with 1 Axes>"
      ]
     },
     "metadata": {
      "needs_background": "light"
     },
     "output_type": "display_data"
    }
   ],
   "source": [
    "pe_array = poisson.rvs(n_pe, size=n_events)\n",
    "charge = sample_ses(x_pmt, pdf_pmt, pe_array)\n",
    "charge += np.random.choice(x_eped, charge.size, p=pdf_eped)\n",
    "print(f\"Average: {np.mean(charge):.2f}, Variance: {np.var(charge):.2f}, STD: {np.std(charge):.2f}\")\n",
    "_ = plt.hist(charge, bins=100)"
   ]
  },
  {
   "cell_type": "code",
   "execution_count": 416,
   "metadata": {},
   "outputs": [
    {
     "name": "stdout",
     "output_type": "stream",
     "text": [
      "Average: 3.74, Variance: 5.68, STD: 2.38\n"
     ]
    },
    {
     "data": {
      "image/png": "[encoded data removed]",
      "text/plain": [
       "<Figure size 432x288 with 1 Axes>"
      ]
     },
     "metadata": {
      "needs_background": "light"
     },
     "output_type": "display_data"
    }
   ],
   "source": [
    "pe_array = poisson.rvs(n_pe, size=n_events)\n",
    "charge = sample_ses(x_sipm, pdf_sipm, pe_array)\n",
    "charge += np.random.choice(x_eped, charge.size, p=pdf_eped)\n",
    "print(f\"Average: {np.mean(charge):.2f}, Variance: {np.var(charge):.2f}, STD: {np.std(charge):.2f}\")\n",
    "_ = plt.hist(charge, bins=100)"
   ]
  },
  {
   "cell_type": "markdown",
   "metadata": {},
   "source": [
    "## SPE Equation"
   ]
  },
  {
   "cell_type": "code",
   "execution_count": 397,
   "metadata": {},
   "outputs": [],
   "source": [
    "@njit(fastmath=True, parallel=True)\n",
    "def pmt_spe(x, eped, eped_sigma, spe, spe_sigma, lambda_):    \n",
    "    # Obtain pedestal peak\n",
    "    p_ped = exp(-lambda_)\n",
    "    pe_signal = p_ped * normal_pdf(x, eped, eped_sigma)\n",
    "\n",
    "\n",
    "    # Loop over the possible total number of cells fired\n",
    "    found = False\n",
    "    for k in prange(1, 250):\n",
    "        p = poisson_pmf(k, lambda_)  # Probability to get k avalanches\n",
    "\n",
    "        # Skip insignificant probabilities\n",
    "        if (not found) & (p < 1e-4):\n",
    "            continue\n",
    "        if found & (p < 1e-4):\n",
    "            break\n",
    "        found = True\n",
    "\n",
    "        pe_sigma = sqrt(k * spe_sigma ** 2 + eped_sigma ** 2)\n",
    "        pe_signal += p * normal_pdf(x, eped + k * spe, pe_sigma)\n",
    "\n",
    "    return pe_signal"
   ]
  },
  {
   "cell_type": "code",
   "execution_count": 401,
   "metadata": {},
   "outputs": [],
   "source": [
    "@njit(fastmath=True, parallel=True)\n",
    "def sipm_spe(x, eped, eped_sigma, spe, spe_sigma, lambda_, opct):\n",
    "    # Obtain pedestal peak\n",
    "    p_ped = exp(-lambda_)\n",
    "    pe_signal = p_ped * normal_pdf(x, eped, eped_sigma)\n",
    "\n",
    "    # Loop over the possible total number of cells fired\n",
    "    found = False\n",
    "    for k in prange(1, 250):\n",
    "        pk = 0\n",
    "        for j in prange(1, k+1):\n",
    "            pj = poisson_pmf(j, lambda_)  # Probability for j initial fired cells\n",
    "\n",
    "            # Skip insignificant probabilities\n",
    "            if pj < 1e-4:\n",
    "                continue\n",
    "\n",
    "            # Sum the probability from the possible combinations which result\n",
    "            # in a total of k fired cells to get the total probability of k\n",
    "            # fired cells\n",
    "            pk += pj * pow(1-opct, j) * pow(opct, k-j) * binom(k-1, j-1)\n",
    "            \n",
    "        # Skip insignificant probabilities\n",
    "        if (not found) & (pk < 1e-4):\n",
    "            continue\n",
    "        if found & (pk < 1e-4):\n",
    "            break\n",
    "        found = True\n",
    "        \n",
    "        pe_sigma = sqrt(k * spe_sigma ** 2 + eped_sigma ** 2)\n",
    "        pe_signal += pk * normal_pdf(x, eped + k * spe, pe_sigma)\n",
    "\n",
    "    return pe_signal"
   ]
  },
  {
   "cell_type": "code",
   "execution_count": 408,
   "metadata": {},
   "outputs": [
    {
     "name": "stdout",
     "output_type": "stream",
     "text": [
      "Average: 3.00, Variance: 3.06, STD: 1.75\n"
     ]
    },
    {
     "data": {
      "text/plain": [
       "[<matplotlib.lines.Line2D at 0x13e851780>]"
      ]
     },
     "execution_count": 408,
     "metadata": {},
     "output_type": "execute_result"
    },
    {
     "data": {
      "image/png": "[encoded data removed]",
      "text/plain": [
       "<Figure size 432x288 with 1 Axes>"
      ]
     },
     "metadata": {
      "needs_background": "light"
     },
     "output_type": "display_data"
    }
   ],
   "source": [
    "x_pmt_spe = np.linspace(-1, 20, 10000)\n",
    "pdf_pmt_spe = pmt_spe(x_pmt_spe, eped, eped_sigma, spe, spe_sigma, n_pe)\n",
    "print_stats(x_pmt_spe, pdf_pmt_spe)\n",
    "plt.plot(x_pmt_spe, pdf_pmt_spe)"
   ]
  },
  {
   "cell_type": "code",
   "execution_count": 407,
   "metadata": {},
   "outputs": [
    {
     "name": "stdout",
     "output_type": "stream",
     "text": [
      "Average: 3.75, Variance: 5.68, STD: 2.38\n"
     ]
    },
    {
     "data": {
      "text/plain": [
       "[<matplotlib.lines.Line2D at 0x13e6b64e0>]"
      ]
     },
     "execution_count": 407,
     "metadata": {},
     "output_type": "execute_result"
    },
    {
     "data": {
      "image/png": "[encoded data removed]",
      "text/plain": [
       "<Figure size 432x288 with 1 Axes>"
      ]
     },
     "metadata": {
      "needs_background": "light"
     },
     "output_type": "display_data"
    }
   ],
   "source": [
    "x_sipm_spe = np.linspace(-2, 20, 10000)\n",
    "pdf_sipm_spe = sipm_spe(x_sipm_spe, eped, eped_sigma, spe, spe_sigma, n_pe, opct)\n",
    "print_stats(x_sipm_spe, pdf_sipm_spe)\n",
    "plt.plot(x_sipm_spe, pdf_sipm_spe)"
   ]
  }
 ],
 "metadata": {
  "kernelspec": {
   "display_name": "cta",
   "language": "python",
   "name": "cta"
  },
  "language_info": {
   "codemirror_mode": {
    "name": "ipython",
    "version": 3
   },
   "file_extension": ".py",
   "mimetype": "text/x-python",
   "name": "python",
   "nbconvert_exporter": "python",
   "pygments_lexer": "ipython3",
   "version": "3.7.2"
  }
 },
 "nbformat": 4,
 "nbformat_minor": 2
}
