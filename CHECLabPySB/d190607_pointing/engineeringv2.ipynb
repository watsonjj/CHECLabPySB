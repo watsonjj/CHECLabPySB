{
 "cells": [
  {
   "cell_type": "code",
   "execution_count": null,
   "metadata": {},
   "outputs": [],
   "source": [
    "import astropy.units as u\n",
    "from astropy.time import Time\n",
    "import copy\n",
    "import numpy as np\n",
    "from os.path import abspath, dirname, join\n",
    "import matplotlib.pyplot as plt\n",
    "%matplotlib inline"
   ]
  },
  {
   "cell_type": "code",
   "execution_count": null,
   "metadata": {},
   "outputs": [],
   "source": [
    "from astropy.coordinates import SkyCoord, AltAz, EarthLocation\n",
    "from astroquery.vizier import Vizier\n",
    "from ctapipe.instrument import CameraGeometry\n",
    "from ctapipe.visualization import CameraDisplay\n",
    "from ctapipe.coordinates import (\n",
    "    GroundFrame,\n",
    "    TiltedGroundFrame,\n",
    "    NominalFrame,\n",
    "    TelescopeFrame,\n",
    "    CameraFrame,\n",
    "    EngineeringCameraFrame,\n",
    ")"
   ]
  },
  {
   "cell_type": "code",
   "execution_count": null,
   "metadata": {},
   "outputs": [],
   "source": [
    "ss_image = np.load('/Users/Jason/Software/CHECLabPySB/CHECLabPySB/d190607_pointing/DracoIm.npy')"
   ]
  },
  {
   "cell_type": "code",
   "execution_count": null,
   "metadata": {},
   "outputs": [],
   "source": [
    "# Define pointing\n",
    "location=EarthLocation.from_geodetic(lon=14.974609, lat=37.693267, height=1750)\n",
    "obstime=Time(\"2019-05-09T01:37:54.728026\")\n",
    "\n",
    "altaz_frame = AltAz(location=location, obstime=obstime)\n",
    "\n",
    "alt = 73.21 * u.deg\n",
    "az = 0.5 * u.deg\n",
    "\n",
    "telescope_pointing = SkyCoord(\n",
    "    alt=alt, \n",
    "    az=az, \n",
    "    frame=altaz_frame,\n",
    ")"
   ]
  },
  {
   "cell_type": "code",
   "execution_count": null,
   "metadata": {},
   "outputs": [],
   "source": [
    "focal_length = u.Quantity(2.15191, u.m)\n",
    "#focal_length = u.Quantity(2.141, u.m)\n",
    "\n",
    "camera_frame = CameraFrame(\n",
    "    location=location,\n",
    "    obstime=obstime,\n",
    "    focal_length=focal_length,\n",
    "    telescope_pointing=telescope_pointing,\n",
    ")\n",
    "engineering_frame = EngineeringCameraFrame(\n",
    "    n_mirrors=2,\n",
    "    location=location,\n",
    "    obstime=obstime,\n",
    "    focal_length=focal_length,\n",
    "    telescope_pointing=telescope_pointing,\n",
    ")"
   ]
  },
  {
   "cell_type": "code",
   "execution_count": null,
   "metadata": {},
   "outputs": [],
   "source": [
    "# Get pixel coordinates from TargetCalib\n",
    "from target_calib import CameraConfiguration\n",
    "camera_config = CameraConfiguration(\"1.1.0\")\n",
    "m = camera_config.GetMapping()\n",
    "\n",
    "xpix = np.array(m.GetXPixVector()) * u.m\n",
    "ypix = np.array(m.GetYPixVector()) * u.m\n",
    "size = m.GetSize() * u.m\n",
    "area = size**2\n",
    "pix_area = np.full(xpix.size, area) * area.unit\n",
    "\n",
    "engineering_camera_geom = CameraGeometry(\n",
    "    \"CHEC\",\n",
    "    pix_id=np.arange(xpix.size),\n",
    "    pix_x=xpix,\n",
    "    pix_y=ypix,\n",
    "    pix_area=pix_area,\n",
    "    pix_type='rectangular',\n",
    "    frame=engineering_frame,\n",
    "    sampling_rate=1*u.GHz\n",
    ")"
   ]
  },
  {
   "cell_type": "code",
   "execution_count": null,
   "metadata": {},
   "outputs": [],
   "source": [
    "# Get stars\n",
    "vizier = Vizier(\n",
    "    catalog='V/50',\n",
    "    columns=['_RAJ2000', '_DEJ2000', 'Vmag', 'Name']\n",
    ")\n",
    "t = vizier.query_region(telescope_pointing, radius=5 * u.deg, catalog='V/50')[0]\n",
    "t.sort(\"Vmag\")\n",
    "t = t[:5]\n",
    "stars = SkyCoord(ra=t['_RAJ2000'], dec=t['_DEJ2000'], frame='icrs')\n",
    "\n",
    "stars_cam = stars.transform_to(camera_frame)\n",
    "stars_eng = stars.transform_to(engineering_frame)"
   ]
  },
  {
   "cell_type": "code",
   "execution_count": null,
   "metadata": {},
   "outputs": [],
   "source": [
    "fig, axs = plt.subplots(1, 2, constrained_layout=True, figsize=(12, 6))\n",
    "display_camera = CameraDisplay(\n",
    "    engineering_camera_geom, \n",
    "    ax=axs[0], \n",
    "    image=ss_image,\n",
    "    title=\"EngineeringCameraFrame\",\n",
    "    cmap='inferno'\n",
    ")\n",
    "display_camera.set_limits_minmax(-10, 100)\n",
    "display_engineering = CameraDisplay(\n",
    "    engineering_camera_geom.transform_to(camera_frame),\n",
    "    ax=axs[1],\n",
    "    image=ss_image,\n",
    "    title=\"CameraFrame\",\n",
    "    cmap='inferno',\n",
    ")\n",
    "display_engineering.set_limits_minmax(-10, 100)\n",
    "\n",
    "axs[0].plot(stars_eng.x.value, stars_eng.y.value, 'wo', mfc='none', ms=25, mew=2)\n",
    "axs[1].plot(stars_cam.x.value, stars_cam.y.value, 'wo', mfc='none', ms=25, mew=2)"
   ]
  },
  {
   "cell_type": "code",
   "execution_count": null,
   "metadata": {},
   "outputs": [],
   "source": []
  },
  {
   "cell_type": "code",
   "execution_count": null,
   "metadata": {},
   "outputs": [],
   "source": []
  }
 ],
 "metadata": {
  "kernelspec": {
   "display_name": "Python [conda env:cta] *",
   "language": "python",
   "name": "conda-env-cta-py"
  },
  "language_info": {
   "codemirror_mode": {
    "name": "ipython",
    "version": 3
   },
   "file_extension": ".py",
   "mimetype": "text/x-python",
   "name": "python",
   "nbconvert_exporter": "python",
   "pygments_lexer": "ipython3",
   "version": "3.7.5"
  },
  "pycharm": {
   "stem_cell": {
    "cell_type": "raw",
    "metadata": {
     "collapsed": false
    },
    "source": []
   }
  }
 },
 "nbformat": 4,
 "nbformat_minor": 2
}
